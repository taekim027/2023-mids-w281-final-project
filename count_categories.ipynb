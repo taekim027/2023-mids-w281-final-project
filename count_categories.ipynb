{
 "cells": [
  {
   "attachments": {},
   "cell_type": "markdown",
   "metadata": {},
   "source": [
    "# Count categories"
   ]
  },
  {
   "cell_type": "code",
   "execution_count": 28,
   "metadata": {},
   "outputs": [],
   "source": [
    "import os\n",
    "\n",
    "category_dir = r'D:\\Documents\\MIDS\\W281\\floating_objects_dataset\\PART_1\\PART_1'\n",
    "one_category = os.path.join(category_dir, '1category')\n",
    "two_categories = os.path.join(category_dir, '2categories')\n",
    "six_categories = os.path.join(category_dir, '6categories')"
   ]
  },
  {
   "cell_type": "code",
   "execution_count": 31,
   "metadata": {},
   "outputs": [],
   "source": [
    "from typing import List\n",
    "\n",
    "\n",
    "def count_categories(categories_dir: str, num_categories: int) -> List[int]:\n",
    "    counts = [0] * num_categories\n",
    "    for file in os.listdir(categories_dir):\n",
    "        with open(os.path.join(categories_dir, file), 'r') as f:\n",
    "            for row in f.readlines():\n",
    "                category = int(row.split()[0])\n",
    "\n",
    "                counts[category] += 1\n",
    "    return counts\n",
    "\n",
    "def count_images(categories_dir: str) -> int:\n",
    "    return len(os.listdir(categories_dir))"
   ]
  },
  {
   "cell_type": "code",
   "execution_count": 29,
   "metadata": {},
   "outputs": [
    {
     "data": {
      "text/plain": [
       "[39991]"
      ]
     },
     "execution_count": 29,
     "metadata": {},
     "output_type": "execute_result"
    }
   ],
   "source": [
    "one_category_distribution = count_categories(one_category, 1)\n",
    "one_category_distribution"
   ]
  },
  {
   "cell_type": "code",
   "execution_count": 25,
   "metadata": {},
   "outputs": [
    {
     "data": {
      "text/plain": [
       "[33761, 6230]"
      ]
     },
     "execution_count": 25,
     "metadata": {},
     "output_type": "execute_result"
    }
   ],
   "source": [
    "two_category_distribution = count_categories(two_categories, 2)\n",
    "two_category_distribution"
   ]
  },
  {
   "cell_type": "code",
   "execution_count": 26,
   "metadata": {},
   "outputs": [
    {
     "data": {
      "text/plain": [
       "[33174, 3922, 702, 587, 160, 1446]"
      ]
     },
     "execution_count": 26,
     "metadata": {},
     "output_type": "execute_result"
    }
   ],
   "source": [
    "six_category_distribution = count_categories(six_categories, 6)\n",
    "six_category_distribution"
   ]
  },
  {
   "cell_type": "code",
   "execution_count": 30,
   "metadata": {},
   "outputs": [],
   "source": [
    "assert sum(one_category_distribution) == sum(two_category_distribution) == sum(six_category_distribution)"
   ]
  },
  {
   "cell_type": "code",
   "execution_count": 33,
   "metadata": {},
   "outputs": [
    {
     "data": {
      "text/plain": [
       "3641"
      ]
     },
     "execution_count": 33,
     "metadata": {},
     "output_type": "execute_result"
    }
   ],
   "source": [
    "count_images(one_category)"
   ]
  },
  {
   "cell_type": "code",
   "execution_count": null,
   "metadata": {},
   "outputs": [],
   "source": []
  }
 ],
 "metadata": {
  "kernelspec": {
   "display_name": "base",
   "language": "python",
   "name": "python3"
  },
  "language_info": {
   "codemirror_mode": {
    "name": "ipython",
    "version": 3
   },
   "file_extension": ".py",
   "mimetype": "text/x-python",
   "name": "python",
   "nbconvert_exporter": "python",
   "pygments_lexer": "ipython3",
   "version": "3.8.8"
  },
  "orig_nbformat": 4
 },
 "nbformat": 4,
 "nbformat_minor": 2
}
