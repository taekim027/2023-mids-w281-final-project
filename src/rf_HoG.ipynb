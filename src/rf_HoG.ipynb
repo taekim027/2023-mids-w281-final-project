{
 "cells": [
  {
   "cell_type": "code",
   "execution_count": 6,
   "id": "5194b971",
   "metadata": {},
   "outputs": [],
   "source": [
    "import cv2\n",
    "import os\n",
    "import numpy as np\n",
    "import matplotlib.pyplot as plt\n",
    "import pandas as pd\n",
    "\n",
    "from sklearn.model_selection import train_test_split\n",
    "from sklearn.ensemble import RandomForestClassifier\n",
    "from sklearn.metrics import accuracy_score\n",
    "\n",
    "from numpy import linalg\n",
    "import numpy.matlib\n",
    "from IPython.display import clear_output\n",
    "from skimage.color import rgb2gray\n",
    "\n",
    "# Change to match data filepath on local\n",
    "base_fp = 'E:\\\\Project\\\\hog_features'\n"
   ]
  },
  {
   "cell_type": "code",
   "execution_count": 8,
   "id": "801f0e68",
   "metadata": {},
   "outputs": [
    {
     "data": {
      "text/plain": [
       "['.ipynb_checkpoints',\n",
       " 'cnn.ipynb',\n",
       " 'feature_extraction.ipynb',\n",
       " 'images.npy',\n",
       " 'PCA_DimRed.ipynb',\n",
       " 'PCA_sklearn.ipynb',\n",
       " 'rf.ipynb',\n",
       " 'starter_notebook.ipynb',\n",
       " 'transformed_images.npy',\n",
       " 'transformed_images_9.npy',\n",
       " 'Untitled.ipynb',\n",
       " 'utils.py',\n",
       " '__init__.py',\n",
       " '__pycache__']"
      ]
     },
     "execution_count": 8,
     "metadata": {},
     "output_type": "execute_result"
    }
   ],
   "source": [
    "os.listdir()"
   ]
  },
  {
   "cell_type": "code",
   "execution_count": 10,
   "id": "7d825074",
   "metadata": {},
   "outputs": [],
   "source": [
    "X = np.load(base_fp + '\\\\hog_features.npz')\n",
    "Y = np.load(base_fp + '\\\\hog_labels.npy')"
   ]
  },
  {
   "cell_type": "code",
   "execution_count": 24,
   "id": "f67f158c",
   "metadata": {},
   "outputs": [],
   "source": [
    "HoG_array = X['arr_0']"
   ]
  },
  {
   "cell_type": "code",
   "execution_count": 26,
   "id": "c4604c76",
   "metadata": {},
   "outputs": [],
   "source": [
    "X_train, X_test, Y_train, Y_test = train_test_split(HoG_array, Y, test_size = 0.2, random_state = 42)"
   ]
  },
  {
   "cell_type": "markdown",
   "id": "0643af6a",
   "metadata": {},
   "source": [
    "## Single Baseline Model"
   ]
  },
  {
   "cell_type": "code",
   "execution_count": 28,
   "id": "e1f78093",
   "metadata": {},
   "outputs": [
    {
     "name": "stdout",
     "output_type": "stream",
     "text": [
      "Wall time: 3min 50s\n"
     ]
    },
    {
     "data": {
      "text/plain": [
       "RandomForestClassifier(random_state=42)"
      ]
     },
     "execution_count": 28,
     "metadata": {},
     "output_type": "execute_result"
    }
   ],
   "source": [
    "%%time\n",
    "rfc = RandomForestClassifier(n_estimators = 100, random_state = 42)\n",
    "rfc.fit(X_train, Y_train)"
   ]
  },
  {
   "cell_type": "code",
   "execution_count": 29,
   "id": "ac6d4cb5",
   "metadata": {},
   "outputs": [
    {
     "name": "stdout",
     "output_type": "stream",
     "text": [
      "Accuracy: 0.42154070345101674\n"
     ]
    }
   ],
   "source": [
    "Y_pred = rfc.predict(X_test)\n",
    "accuracy = accuracy_score(Y_test, Y_pred)\n",
    "print(f'Accuracy: {accuracy}')"
   ]
  },
  {
   "cell_type": "markdown",
   "id": "ec76c8e4",
   "metadata": {},
   "source": [
    "## Grid Search"
   ]
  },
  {
   "cell_type": "code",
   "execution_count": 32,
   "id": "c503c7a5",
   "metadata": {},
   "outputs": [
    {
     "name": "stdout",
     "output_type": "stream",
     "text": [
      "Best hyperparameters: {'max_depth': None, 'min_samples_split': 5, 'n_estimators': 200}\n",
      "Best score: 0.4341756991416643\n"
     ]
    }
   ],
   "source": [
    "from sklearn.model_selection import GridSearchCV\n",
    "param_grid = {\n",
    "    'n_estimators': [50, 100, 200],\n",
    "    'max_depth': [None, 10, 20],\n",
    "    'min_samples_split': [2, 5, 10],\n",
    "}\n",
    "\n",
    "rfc = RandomForestClassifier()\n",
    "\n",
    "grid_search = GridSearchCV(rfc, param_grid, cv = 5)\n",
    "\n",
    "grid_search.fit(HoG_array, Y)\n",
    "\n",
    "# Print the best hyperparameters and the corresponding score\n",
    "print(f\"Best hyperparameters: {grid_search.best_params_}\")\n",
    "print(f\"Best score: {grid_search.best_score_}\")"
   ]
  }
 ],
 "metadata": {
  "kernelspec": {
   "display_name": "Python 3 (ipykernel)",
   "language": "python",
   "name": "python3"
  },
  "language_info": {
   "codemirror_mode": {
    "name": "ipython",
    "version": 3
   },
   "file_extension": ".py",
   "mimetype": "text/x-python",
   "name": "python",
   "nbconvert_exporter": "python",
   "pygments_lexer": "ipython3",
   "version": "3.9.7"
  }
 },
 "nbformat": 4,
 "nbformat_minor": 5
}
