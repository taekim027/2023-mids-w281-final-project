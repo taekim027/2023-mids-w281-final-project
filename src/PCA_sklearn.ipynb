{
 "cells": [
  {
   "cell_type": "markdown",
   "id": "74ee1d22",
   "metadata": {},
   "source": [
    "# PCA Using sklearn"
   ]
  },
  {
   "cell_type": "code",
   "execution_count": 1,
   "id": "e97b4dd4",
   "metadata": {},
   "outputs": [],
   "source": [
    "import cv2\n",
    "import os\n",
    "import numpy as np\n",
    "import matplotlib.pyplot as plt\n",
    "import pandas as pd\n",
    "\n",
    "from skimage import exposure\n",
    "from skimage.feature import hog\n",
    "from skimage.filters import sobel\n",
    "from skimage.feature import local_binary_pattern\n",
    "\n",
    "from numpy import linalg\n",
    "import numpy.matlib\n",
    "from IPython.display import clear_output\n",
    "from skimage.color import rgb2gray\n",
    "from PIL import Image\n",
    "from sklearn.decomposition import PCA\n",
    "from sklearn.model_selection import train_test_split\n",
    "from sklearn.svm import SVC\n",
    "from sklearn.metrics import accuracy_score\n",
    "\n",
    "# Change to match data filepath on local\n",
    "base_fp = 'E:\\\\Project\\\\256x256\\\\sketch\\\\tx_000100000000'\n"
   ]
  },
  {
   "cell_type": "code",
   "execution_count": 2,
   "id": "372b1e05",
   "metadata": {},
   "outputs": [],
   "source": [
    "#Load in the full image data from the 1/20 subset of the entire dataset.\n",
    "#This subset will be used to generate the PCA bases\n",
    "loaded_array = np.load('images.npy')"
   ]
  },
  {
   "cell_type": "markdown",
   "id": "6ade97cd",
   "metadata": {},
   "source": [
    "## PCA 9 Components"
   ]
  },
  {
   "cell_type": "code",
   "execution_count": 8,
   "id": "88842fd6",
   "metadata": {},
   "outputs": [
    {
     "data": {
      "text/plain": [
       "PCA(n_components=9)"
      ]
     },
     "execution_count": 8,
     "metadata": {},
     "output_type": "execute_result"
    }
   ],
   "source": [
    "#Initialize PCA with the desire to compress to 20 dimensions (From 256x256)\n",
    "pca_9 = PCA(n_components = 9)\n",
    "pca_9.fit(loaded_array.T)"
   ]
  },
  {
   "cell_type": "code",
   "execution_count": 18,
   "id": "3af7149f",
   "metadata": {
    "scrolled": true
   },
   "outputs": [
    {
     "name": "stdout",
     "output_type": "stream",
     "text": [
      "airplane\n",
      "alarm_clock\n",
      "ant\n",
      "ape\n",
      "apple\n",
      "armor\n",
      "axe\n",
      "banana\n",
      "bat\n",
      "bear\n",
      "bee\n",
      "beetle\n",
      "bell\n",
      "bench\n",
      "bicycle\n",
      "blimp\n",
      "bread\n",
      "butterfly\n",
      "cabin\n",
      "camel\n",
      "candle\n",
      "cannon\n",
      "car_(sedan)\n",
      "castle\n",
      "cat\n",
      "chair\n",
      "chicken\n",
      "church\n",
      "couch\n",
      "cow\n",
      "crab\n",
      "crocodilian\n",
      "cup\n",
      "deer\n",
      "dog\n",
      "dolphin\n",
      "door\n",
      "duck\n",
      "elephant\n",
      "eyeglasses\n",
      "fan\n",
      "fish\n",
      "flower\n",
      "frog\n",
      "geyser\n",
      "giraffe\n",
      "guitar\n",
      "hamburger\n",
      "hammer\n",
      "harp\n",
      "hat\n",
      "hedgehog\n",
      "helicopter\n",
      "hermit_crab\n",
      "horse\n",
      "hot-air_balloon\n",
      "hotdog\n",
      "hourglass\n",
      "jack-o-lantern\n",
      "jellyfish\n",
      "kangaroo\n",
      "knife\n",
      "lion\n",
      "lizard\n",
      "lobster\n",
      "motorcycle\n",
      "mouse\n",
      "mushroom\n",
      "owl\n",
      "parrot\n",
      "pear\n",
      "penguin\n",
      "piano\n",
      "pickup_truck\n",
      "pig\n",
      "pineapple\n",
      "pistol\n",
      "pizza\n",
      "pretzel\n",
      "rabbit\n",
      "raccoon\n",
      "racket\n",
      "ray\n",
      "rhinoceros\n",
      "rifle\n",
      "rocket\n",
      "sailboat\n",
      "saw\n",
      "saxophone\n",
      "scissors\n",
      "scorpion\n",
      "seagull\n",
      "seal\n",
      "sea_turtle\n",
      "shark\n",
      "sheep\n",
      "shoe\n",
      "skyscraper\n",
      "snail\n",
      "snake\n",
      "songbird\n",
      "spider\n",
      "spoon\n",
      "squirrel\n",
      "starfish\n",
      "strawberry\n",
      "swan\n",
      "sword\n",
      "table\n",
      "tank\n",
      "teapot\n",
      "teddy_bear\n",
      "tiger\n",
      "tree\n",
      "trumpet\n",
      "turtle\n",
      "umbrella\n",
      "violin\n",
      "volcano\n",
      "wading_bird\n",
      "wheelchair\n",
      "windmill\n",
      "window\n",
      "wine_bottle\n",
      "zebra\n"
     ]
    }
   ],
   "source": [
    "subfolders = os.listdir(base_fp)\n",
    "transformed_images_9 = np.empty((0,9))\n",
    "labels_9 = []\n",
    "\n",
    "for i, subfolder in enumerate(subfolders):\n",
    "    subfolder_path = os.path.join(base_fp, subfolder)\n",
    "    subfolder_images = sorted(os.listdir(subfolder_path))\n",
    "    print(subfolder)\n",
    "        \n",
    "    for image_name in subfolder_images:\n",
    "        image_path = os.path.join(subfolder_path, image_name)\n",
    "        if image_name.endswith(\".jpg\") or image_name.endswith('.png'):\n",
    "            img = rgb2gray(plt.imread(image_path))\n",
    "            \n",
    "            row = img.flatten().reshape(1, -1)\n",
    "            transformed_img = pca_9.transform(row.reshape(1,-1))\n",
    "            transformed_images_9 = np.vstack([transformed_images_9, transformed_img])\n",
    "            labels_9.append(subfolder)"
   ]
  },
  {
   "cell_type": "code",
   "execution_count": 19,
   "id": "6262b6b9",
   "metadata": {},
   "outputs": [],
   "source": [
    "np.save('transformed_images_9.npy',transformed_images_9)"
   ]
  },
  {
   "cell_type": "code",
   "execution_count": 20,
   "id": "43bada9f",
   "metadata": {},
   "outputs": [
    {
     "data": {
      "text/plain": [
       "(75481, 9)"
      ]
     },
     "execution_count": 20,
     "metadata": {},
     "output_type": "execute_result"
    }
   ],
   "source": [
    "transformed_images_9.shape"
   ]
  },
  {
   "cell_type": "code",
   "execution_count": 21,
   "id": "521bd62b",
   "metadata": {},
   "outputs": [],
   "source": [
    "X_train_9, X_test_9, Y_train_9, Y_test_9 = train_test_split(transformed_images_9, labels_9, test_size = 0.2, random_state = 1)"
   ]
  },
  {
   "cell_type": "code",
   "execution_count": 22,
   "id": "0d730cf4",
   "metadata": {},
   "outputs": [
    {
     "name": "stdout",
     "output_type": "stream",
     "text": [
      "SVM accuracy 9 dimensions: 0.2046764257799563\n",
      "Wall time: 3h 8min 27s\n"
     ]
    }
   ],
   "source": [
    "%%time\n",
    "\n",
    "# Train SVM with linear kernel\n",
    "\n",
    "svm_model_9 = SVC(C = 30, kernel = 'linear', random_state = 0)\n",
    "svm_model_9.fit(X_train_9, Y_train_9)\n",
    "\n",
    "#Evaluate Performance\n",
    "svm_preds_9 = svm_model_9.predict(X_test_9)\n",
    "svm_acc = accuracy_score(Y_test_9, svm_preds_9)\n",
    "print(f'SVM accuracy 9 dimensions: {svm_acc}')"
   ]
  },
  {
   "cell_type": "markdown",
   "id": "c367dc48",
   "metadata": {},
   "source": [
    "## PCA 20 Components"
   ]
  },
  {
   "cell_type": "code",
   "execution_count": 3,
   "id": "044ccb53",
   "metadata": {},
   "outputs": [
    {
     "data": {
      "text/plain": [
       "PCA(n_components=20)"
      ]
     },
     "execution_count": 3,
     "metadata": {},
     "output_type": "execute_result"
    }
   ],
   "source": [
    "#Initialize PCA with the desire to compress to 20 dimensions (From 256x256)\n",
    "pca = PCA(n_components = 20)\n",
    "pca.fit(loaded_array.T)"
   ]
  },
  {
   "cell_type": "code",
   "execution_count": 5,
   "id": "e4afada2",
   "metadata": {
    "scrolled": true
   },
   "outputs": [
    {
     "name": "stdout",
     "output_type": "stream",
     "text": [
      "airplane\n",
      "alarm_clock\n",
      "ant\n",
      "ape\n",
      "apple\n",
      "armor\n",
      "axe\n",
      "banana\n",
      "bat\n",
      "bear\n",
      "bee\n",
      "beetle\n",
      "bell\n",
      "bench\n",
      "bicycle\n",
      "blimp\n",
      "bread\n",
      "butterfly\n",
      "cabin\n",
      "camel\n",
      "candle\n",
      "cannon\n",
      "car_(sedan)\n",
      "castle\n",
      "cat\n",
      "chair\n",
      "chicken\n",
      "church\n",
      "couch\n",
      "cow\n",
      "crab\n",
      "crocodilian\n",
      "cup\n",
      "deer\n",
      "dog\n",
      "dolphin\n",
      "door\n",
      "duck\n",
      "elephant\n",
      "eyeglasses\n",
      "fan\n",
      "fish\n",
      "flower\n",
      "frog\n",
      "geyser\n",
      "giraffe\n",
      "guitar\n",
      "hamburger\n",
      "hammer\n",
      "harp\n",
      "hat\n",
      "hedgehog\n",
      "helicopter\n",
      "hermit_crab\n",
      "horse\n",
      "hot-air_balloon\n",
      "hotdog\n",
      "hourglass\n",
      "jack-o-lantern\n",
      "jellyfish\n",
      "kangaroo\n",
      "knife\n",
      "lion\n",
      "lizard\n",
      "lobster\n",
      "motorcycle\n",
      "mouse\n",
      "mushroom\n",
      "owl\n",
      "parrot\n",
      "pear\n",
      "penguin\n",
      "piano\n",
      "pickup_truck\n",
      "pig\n",
      "pineapple\n",
      "pistol\n",
      "pizza\n",
      "pretzel\n",
      "rabbit\n",
      "raccoon\n",
      "racket\n",
      "ray\n",
      "rhinoceros\n",
      "rifle\n",
      "rocket\n",
      "sailboat\n",
      "saw\n",
      "saxophone\n",
      "scissors\n",
      "scorpion\n",
      "seagull\n",
      "seal\n",
      "sea_turtle\n",
      "shark\n",
      "sheep\n",
      "shoe\n",
      "skyscraper\n",
      "snail\n",
      "snake\n",
      "songbird\n",
      "spider\n",
      "spoon\n",
      "squirrel\n",
      "starfish\n",
      "strawberry\n",
      "swan\n",
      "sword\n",
      "table\n",
      "tank\n",
      "teapot\n",
      "teddy_bear\n",
      "tiger\n",
      "tree\n",
      "trumpet\n",
      "turtle\n",
      "umbrella\n",
      "violin\n",
      "volcano\n",
      "wading_bird\n",
      "wheelchair\n",
      "windmill\n",
      "window\n",
      "wine_bottle\n",
      "zebra\n"
     ]
    }
   ],
   "source": [
    "subfolders = os.listdir(base_fp)\n",
    "transformed_images = np.empty((0,20))\n",
    "labels = []\n",
    "\n",
    "for i, subfolder in enumerate(subfolders):\n",
    "    subfolder_path = os.path.join(base_fp, subfolder)\n",
    "    subfolder_images = sorted(os.listdir(subfolder_path))\n",
    "    print(subfolder)\n",
    "        \n",
    "    for image_name in subfolder_images:\n",
    "        image_path = os.path.join(subfolder_path, image_name)\n",
    "        if image_name.endswith(\".jpg\") or image_name.endswith('.png'):\n",
    "            img = rgb2gray(plt.imread(image_path))\n",
    "            \n",
    "            row = img.flatten().reshape(1, -1)\n",
    "            transformed_img = pca.transform(row.reshape(1,-1))\n",
    "            transformed_images = np.vstack([transformed_images, transformed_img])\n",
    "            labels.append(subfolder)"
   ]
  },
  {
   "cell_type": "code",
   "execution_count": 6,
   "id": "17b6e40f",
   "metadata": {},
   "outputs": [],
   "source": [
    "np.save('transformed_images.npy',transformed_images)"
   ]
  },
  {
   "cell_type": "code",
   "execution_count": 23,
   "id": "66b0ce23",
   "metadata": {},
   "outputs": [],
   "source": [
    "X_train, X_test, Y_train, Y_test = train_test_split(transformed_images, labels, test_size = 0.2, random_state = 1)"
   ]
  },
  {
   "cell_type": "code",
   "execution_count": 25,
   "id": "b3eb38e9",
   "metadata": {},
   "outputs": [
    {
     "name": "stdout",
     "output_type": "stream",
     "text": [
      "SVM accuracy 20 dimensions: 0.27217327945949527\n"
     ]
    }
   ],
   "source": [
    "%%time\n",
    "\n",
    "# Train SVM with linear kernel\n",
    "\n",
    "svm_model = SVC(C = 30, kernel = 'linear', random_state = 0)\n",
    "svm_model.fit(X_train, Y_train)\n",
    "\n",
    "#Evaluate Performance\n",
    "svm_preds = svm_model.predict(X_test)\n",
    "svm_acc = accuracy_score(Y_test, svm_preds)\n",
    "print(f'SVM accuracy 20 dimensions: {svm_acc}')"
   ]
  }
 ],
 "metadata": {
  "kernelspec": {
   "display_name": "Python 3 (ipykernel)",
   "language": "python",
   "name": "python3"
  },
  "language_info": {
   "codemirror_mode": {
    "name": "ipython",
    "version": 3
   },
   "file_extension": ".py",
   "mimetype": "text/x-python",
   "name": "python",
   "nbconvert_exporter": "python",
   "pygments_lexer": "ipython3",
   "version": "3.9.7"
  }
 },
 "nbformat": 4,
 "nbformat_minor": 5
}
