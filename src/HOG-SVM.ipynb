{
 "cells": [
  {
   "cell_type": "code",
   "execution_count": 1,
   "id": "8a0a8090",
   "metadata": {},
   "outputs": [
    {
     "data": {
      "text/plain": [
       "1"
      ]
     },
     "execution_count": 1,
     "metadata": {},
     "output_type": "execute_result"
    }
   ],
   "source": [
    "import cv2\n",
    "import numpy as np\n",
    "import os\n",
    "from sklearn.svm import SVC\n",
    "from sklearn.model_selection import train_test_split\n",
    "from sklearn.linear_model import SGDClassifier\n",
    "from sklearn.metrics import accuracy_score\n",
    "\n",
    "from sklearn.cluster import KMeans\n",
    "import pickle\n",
    "from scipy.spatial.distance import cdist\n",
    "\n",
    "# Path to the folder containing all the images\n",
    "path = \"/Users/michelle/Desktop/W281/final_project/rendered_256x256/256x256/sketch/tx_000100000000\"\n",
    "\n",
    "# List all the subdirectories (i.e., categories) in the main folder\n",
    "categories = os.listdir(path)\n",
    "categories = [x for x in categories if x != '.DS_Store']\n",
    "categories = ['apple']\n",
    "len(categories)"
   ]
  },
  {
   "cell_type": "code",
   "execution_count": 5,
   "id": "17b116b5",
   "metadata": {},
   "outputs": [
    {
     "data": {
      "text/plain": [
       "(75481, 2048)"
      ]
     },
     "execution_count": 5,
     "metadata": {},
     "output_type": "execute_result"
    }
   ],
   "source": [
    "# Load hog features file\n",
    "features = np.load(\"/Users/michelle/Downloads/hog_features.npz\")\n",
    "features = features['arr_0']\n",
    "features.shape"
   ]
  },
  {
   "cell_type": "code",
   "execution_count": 7,
   "id": "b23de036",
   "metadata": {},
   "outputs": [
    {
     "data": {
      "text/plain": [
       "(75481,)"
      ]
     },
     "execution_count": 7,
     "metadata": {},
     "output_type": "execute_result"
    }
   ],
   "source": [
    "# Load hog labels file\n",
    "labels = np.load(\"/Users/michelle/Downloads/hog_labels.npy\")\n",
    "#labels = labels['arr_0']\n",
    "labels.shape"
   ]
  },
  {
   "cell_type": "code",
   "execution_count": 8,
   "id": "151bd166",
   "metadata": {},
   "outputs": [],
   "source": [
    "def linear_svm(X_train, X_test, Y_train, Y_test):\n",
    "    # Train an SVM with linear kernel\n",
    "    svm_model = SVC(C=30, kernel='linear', random_state=0)\n",
    "    svm_model.fit(X_train, Y_train)\n",
    "    \n",
    "    # Evaluate the performance of SVM model\n",
    "    svm_preds = svm_model.predict(X_test)\n",
    "    svm_acc = accuracy_score(Y_test, svm_preds)\n",
    "    \n",
    "    return svm_acc"
   ]
  },
  {
   "cell_type": "code",
   "execution_count": 9,
   "id": "19093399",
   "metadata": {},
   "outputs": [],
   "source": [
    "# split into train/test using the padded arrays\n",
    "X_train, X_test, Y_train, Y_test = train_test_split(features, labels, test_size = 0.2, random_state = 1)"
   ]
  },
  {
   "cell_type": "code",
   "execution_count": 10,
   "id": "66c49d4d",
   "metadata": {},
   "outputs": [
    {
     "name": "stdout",
     "output_type": "stream",
     "text": [
      "0.4616811287010664\n",
      "CPU times: user 1h 25min 2s, sys: 20.6 s, total: 1h 25min 23s\n",
      "Wall time: 1h 37min 18s\n"
     ]
    }
   ],
   "source": [
    "%%time\n",
    "# train linear svm model\n",
    "sample_linear_svm_accuracy = linear_svm(X_train, X_test, Y_train, Y_test)\n",
    "print(sample_linear_svm_accuracy)"
   ]
  },
  {
   "cell_type": "code",
   "execution_count": null,
   "id": "aede0440",
   "metadata": {},
   "outputs": [],
   "source": []
  }
 ],
 "metadata": {
  "kernelspec": {
   "display_name": "Python 3 (ipykernel)",
   "language": "python",
   "name": "python3"
  },
  "language_info": {
   "codemirror_mode": {
    "name": "ipython",
    "version": 3
   },
   "file_extension": ".py",
   "mimetype": "text/x-python",
   "name": "python",
   "nbconvert_exporter": "python",
   "pygments_lexer": "ipython3",
   "version": "3.9.7"
  }
 },
 "nbformat": 4,
 "nbformat_minor": 5
}
