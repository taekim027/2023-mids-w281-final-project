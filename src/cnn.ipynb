{
 "cells": [
  {
   "attachments": {},
   "cell_type": "markdown",
   "metadata": {},
   "source": [
    "# CNN training on various images with optional additional feature vectors"
   ]
  },
  {
   "cell_type": "code",
   "execution_count": 1,
   "metadata": {},
   "outputs": [],
   "source": [
    "import os\n",
    "import sys\n",
    "import cv2\n",
    "import os\n",
    "import numpy as np\n",
    "import matplotlib.pyplot as plt\n",
    "import pandas as pd\n",
    "from typing import Iterable, Tuple, List\n",
    "import tensorflow as tf\n",
    "if not tf.config.list_physical_devices('GPU'):\n",
    "    print('Warning: without a GPU the training will take a long time...')\n"
   ]
  },
  {
   "cell_type": "code",
   "execution_count": 2,
   "metadata": {},
   "outputs": [],
   "source": [
    "# Constants\n",
    "IMAGE_SIZE = (256, 256, 3)\n",
    "NUM_CLASSES = 125\n",
    "# SKETCH_ROOT = '/Users/taehun.kim/mids/rendered_256x256/256x256/sketch'\n",
    "SKETCH_ROOT = r'D:\\Documents\\MIDS\\W281\\2023-mids-w81-final-project-dataset\\256x256\\sketch'\n",
    "assert os.path.isdir(SKETCH_ROOT)"
   ]
  },
  {
   "attachments": {},
   "cell_type": "markdown",
   "metadata": {},
   "source": [
    "## Load dataset"
   ]
  },
  {
   "attachments": {},
   "cell_type": "markdown",
   "metadata": {},
   "source": [
    "### Load image-only dataset"
   ]
  },
  {
   "cell_type": "code",
   "execution_count": 52,
   "metadata": {},
   "outputs": [],
   "source": [
    "def get_image_dataset(ratios: List[float], augmentations: List[str] = None, color_mode: str = 'rgb',\n",
    "                    seed: int = 1, batch_size: int = 32) -> List[tf.data.Dataset]:\n",
    "    '''\n",
    "    Get tensorflow dataset using generator to avoid RAM limitations\n",
    "    Splits into train, val, test from all provided augmentations \n",
    "    '''\n",
    "\n",
    "    # No augmentation by default\n",
    "    augmentations = augmentations or ['tx_000000000000']\n",
    "\n",
    "    assert sum(ratios) == 1 and len(ratios) == 3, 'Sum of 3 ratios must add to 1'\n",
    "\n",
    "    datasets: List[List[tf.data.Dataset]] = []\n",
    "    for aug in augmentations:\n",
    "        print(f'Reading images from augmentation {aug}...')\n",
    "        train_ds = tf.keras.utils.image_dataset_from_directory(\n",
    "            directory = os.path.join(SKETCH_ROOT, aug),\n",
    "            image_size = IMAGE_SIZE[:2],\n",
    "            label_mode='categorical',\n",
    "            seed = seed,\n",
    "            color_mode = color_mode,\n",
    "            validation_split = (1 - ratios[0]),\n",
    "            subset = 'training',\n",
    "            batch_size=batch_size\n",
    "        )\n",
    "\n",
    "        val_ds = tf.keras.utils.image_dataset_from_directory(\n",
    "            directory = os.path.join(SKETCH_ROOT, aug),\n",
    "            image_size = IMAGE_SIZE[:2],\n",
    "            label_mode='categorical',\n",
    "            seed = seed,\n",
    "            color_mode = 'rgb',\n",
    "            validation_split = (1 - ratios[0]),\n",
    "            subset = 'validation',\n",
    "            batch_size=batch_size\n",
    "        )\n",
    "\n",
    "        val_batch_count = int(tf.data.experimental.cardinality(val_ds))\n",
    "        test_ds = val_ds.take(int(val_batch_count * ratios[1]))\n",
    "        val_ds = val_ds.skip(int(val_batch_count * ratios[1]))\n",
    "\n",
    "        datasets.append([train_ds, val_ds, test_ds])\n",
    "    \n",
    "    combined = datasets.pop()\n",
    "    for train, val, test in datasets:\n",
    "        combined[0] = combined[0].concatenate(train)\n",
    "        combined[1] = combined[1].concatenate(val)\n",
    "        combined[2] = combined[2].concatenate(test)\n",
    "\n",
    "\n",
    "    def normalize(image, label):\n",
    "        image = tf.cast(image/255. , tf.float32)\n",
    "        return image, label\n",
    "\n",
    "    return [\n",
    "        d.map(normalize)\n",
    "        for d in combined\n",
    "    ]"
   ]
  },
  {
   "cell_type": "code",
   "execution_count": 54,
   "metadata": {},
   "outputs": [
    {
     "name": "stdout",
     "output_type": "stream",
     "text": [
      "Reading images from augmentation tx_000100000000...\n",
      "Found 75481 files belonging to 125 classes.\n",
      "Using 60385 files for training.\n",
      "Found 75481 files belonging to 125 classes.\n",
      "Using 15096 files for validation.\n"
     ]
    }
   ],
   "source": [
    "train_ds, val_ds, test_ds = get_image_dataset([0.8, 0.1, 0.1], augmentations=['tx_000100000000'])"
   ]
  },
  {
   "attachments": {},
   "cell_type": "markdown",
   "metadata": {},
   "source": [
    "### Load Image dataset with additional numerical features"
   ]
  },
  {
   "cell_type": "code",
   "execution_count": 3,
   "metadata": {},
   "outputs": [],
   "source": [
    "def get_image_dataset_w_feature(features: np.ndarray, labels: np.ndarray, ratios: List[float], augmentation: str = None, \n",
    "                                seed: int = 1, batch_size: int = 32, allow_pickle: bool = False) -> List[tf.data.Dataset]:\n",
    "    '''\n",
    "    Get tensorflow dataset using generator to avoid RAM limitations\n",
    "    Splits into train, val, test from all provided augmentations \n",
    "    '''\n",
    "\n",
    "    # Use centered images by default\n",
    "    print('Loading images...')\n",
    "    augmentation = augmentation or 'tx_000100000000'\n",
    "    img_ds = tf.keras.utils.image_dataset_from_directory(\n",
    "        directory = os.path.join(SKETCH_ROOT, augmentation),\n",
    "        image_size = IMAGE_SIZE[:2],\n",
    "        # We don't want labels to be returned in this dataset\n",
    "        labels=None,    \n",
    "        label_mode=None,\n",
    "        seed = seed,\n",
    "        color_mode = 'rgb',\n",
    "        # Don't batch as we want to batch later with others\n",
    "        batch_size = None,\n",
    "        # shuffle needs to be False to match the feature vector order\n",
    "        shuffle=False \n",
    "    )\n",
    "    \n",
    "    print('Loading feature vector...')\n",
    "    hog_ds = tf.data.Dataset.from_tensor_slices(features)\n",
    "\n",
    "    print('Loading labels...')\n",
    "    num_rows = len(labels)\n",
    "    num_classes = len(set(labels))\n",
    "    one_hot = tf.one_hot(labels, num_classes)\n",
    "    labels_ds = tf.data.Dataset.from_tensor_slices(one_hot)\n",
    "\n",
    "    combined = tf.data.Dataset.zip(((img_ds, hog_ds), labels_ds))\n",
    "    shuffled = combined.shuffle(buffer_size=num_rows).batch(batch_size).prefetch(tf.data.AUTOTUNE)\n",
    "\n",
    "    batch_count = len(shuffled)\n",
    "\n",
    "    split = []\n",
    "    for ratio in ratios:\n",
    "        slice_count = int(batch_count * ratio)\n",
    "        slice = shuffled.take(slice_count)\n",
    "        shuffled = shuffled.skip(slice_count)\n",
    "        split.append(slice)\n",
    "    \n",
    "    return split"
   ]
  },
  {
   "cell_type": "code",
   "execution_count": 4,
   "metadata": {},
   "outputs": [
    {
     "name": "stdout",
     "output_type": "stream",
     "text": [
      "Loading images...\n",
      "Found 75481 files belonging to 1 classes.\n",
      "Loading feature vector...\n",
      "Loading labels...\n"
     ]
    }
   ],
   "source": [
    "HOG_INPUT_SIZE = 2048\n",
    "\n",
    "# Get image + hog dataset\n",
    "train_ds, val_ds, test_ds = get_image_dataset_w_feature(\n",
    "    features=np.load(r'D:\\Documents\\MIDS\\W281\\2023-mids-w81-final-project-dataset\\256x256\\features\\hog\\hog_features.npz')['arr_0'],\n",
    "    labels=np.load(r'D:\\Documents\\MIDS\\W281\\2023-mids-w81-final-project-dataset\\256x256\\features\\sift\\labels.npz')['arr_0'],\n",
    "    ratios=[0.8, 0.1, 0.1]\n",
    ")"
   ]
  },
  {
   "attachments": {},
   "cell_type": "markdown",
   "metadata": {},
   "source": [
    "## Build CNN model(s)"
   ]
  },
  {
   "cell_type": "code",
   "execution_count": 5,
   "metadata": {},
   "outputs": [],
   "source": [
    "def _build_resnet_layers():\n",
    "    pretrained_resnet = tf.keras.applications.ResNet50(\n",
    "        include_top=False,\n",
    "        input_shape=IMAGE_SIZE,\n",
    "        pooling='avg',\n",
    "        classes=125,\n",
    "    )\n",
    "    pretrained_resnet.trainable = False\n",
    "\n",
    "    tf.keras.backend.clear_session()\n",
    "    layer = tf.keras.layers.Dense(1024, activation='relu')(pretrained_resnet.output)\n",
    "    layer = tf.keras.layers.Dense(512, activation='relu')(layer)\n",
    "    return pretrained_resnet.input, layer\n",
    "\n",
    "def _build_sketch_a_net_layers():\n",
    "    # Input layer\n",
    "    inputs = tf.keras.layers.Input(shape=IMAGE_SIZE, name='img_input')\n",
    "    \n",
    "    # Convolutional Layer 1\n",
    "    conv1 = tf.keras.layers.Conv2D(64, (15, 15), activation='relu', padding='valid')(inputs)\n",
    "    maxpool1 = tf.keras.layers.MaxPooling2D(pool_size=(3, 3), strides=(3, 3), padding='same')(conv1)\n",
    "    \n",
    "    # Convolutional Layer 2\n",
    "    conv2 = tf.keras.layers.Conv2D(128, (5, 5), activation='relu', padding='valid')(maxpool1)\n",
    "    maxpool2 = tf.keras.layers.MaxPooling2D(pool_size=(3, 3), strides=(3, 3), padding='same')(conv2)\n",
    "    \n",
    "    # Convolutional Layer 3\n",
    "    conv3 = tf.keras.layers.Conv2D(256, (3, 3), activation='relu', padding='valid')(maxpool2)\n",
    "    \n",
    "    # Convolutional Layer 4\n",
    "    conv4 = tf.keras.layers.Conv2D(256, (3, 3), activation='relu', padding='valid')(conv3)\n",
    "    \n",
    "    # Convolutional Layer 5\n",
    "    conv5 = tf.keras.layers.Conv2D(256, (3, 3), activation='relu', padding='valid')(conv4)\n",
    "    maxpool5 = tf.keras.layers.MaxPooling2D(pool_size=(3, 3), strides=(3, 3), padding='same')(conv5)\n",
    "    \n",
    "    # Flatten\n",
    "    flatten = tf.keras.layers.Flatten()(maxpool5)\n",
    "    \n",
    "    # Fully Connected Layers\n",
    "    dense1 = tf.keras.layers.Dense(1024, activation='relu')(flatten)\n",
    "    dropout1 = tf.keras.layers.Dropout(0.5)(dense1)\n",
    "    dense2 = tf.keras.layers.Dense(512, activation='relu')(dropout1)\n",
    "    dropout2 = tf.keras.layers.Dropout(0.5)(dense2)\n",
    "    return inputs, dropout2\n",
    "\n",
    "def build_naive_sketch_a_net():\n",
    "    cnn_input, cnn_output = _build_sketch_a_net_layers()\n",
    "    \n",
    "    outputs = tf.keras.layers.Dense(NUM_CLASSES, activation='softmax')(cnn_output)\n",
    "    return tf.keras.Model(cnn_input, outputs)\n",
    "\n",
    "def build_naive_resnet():\n",
    "    cnn_input, cnn_output = _build_resnet_layers()\n",
    "    \n",
    "    outputs = tf.keras.layers.Dense(NUM_CLASSES, activation='softmax')(cnn_output)\n",
    "    return tf.keras.Model(cnn_input, outputs)\n",
    "\n",
    "def build_cnn_with_feature(feature_vector_len: int):\n",
    "    cnn_input, cnn_output = _build_resnet_layers()\n",
    "\n",
    "    vector_shape = (feature_vector_len)\n",
    "    vector_input = tf.keras.layers.Input(shape=vector_shape, name='hog_input')\n",
    "\n",
    "    combined_output = tf.keras.layers.Concatenate()([cnn_output, vector_input])\n",
    "    outputs = tf.keras.layers.Dense(NUM_CLASSES, activation='softmax')(combined_output)\n",
    "    return tf.keras.Model(inputs=[cnn_input, vector_input], outputs=outputs)"
   ]
  },
  {
   "cell_type": "code",
   "execution_count": 56,
   "metadata": {},
   "outputs": [],
   "source": [
    "model = build_naive_resnet()"
   ]
  },
  {
   "cell_type": "code",
   "execution_count": 6,
   "metadata": {},
   "outputs": [],
   "source": [
    "model = build_cnn_with_feature(HOG_INPUT_SIZE)"
   ]
  },
  {
   "cell_type": "code",
   "execution_count": 7,
   "metadata": {},
   "outputs": [],
   "source": [
    "model.compile(\n",
    "    optimizer='adam',\n",
    "    loss='categorical_crossentropy',\n",
    "    metrics=['accuracy']\n",
    ")"
   ]
  },
  {
   "attachments": {},
   "cell_type": "markdown",
   "metadata": {},
   "source": [
    "## Perform training"
   ]
  },
  {
   "cell_type": "code",
   "execution_count": 8,
   "metadata": {},
   "outputs": [
    {
     "name": "stdout",
     "output_type": "stream",
     "text": [
      "Epoch 1/10\n",
      "1887/1887 [==============================] - 557s 227ms/step - loss: 2.5821 - accuracy: 0.3788 - val_loss: 1.7785 - val_accuracy: 0.5234\n",
      "Epoch 2/10\n",
      "1887/1887 [==============================] - 613s 262ms/step - loss: 1.7516 - accuracy: 0.5277 - val_loss: 1.4435 - val_accuracy: 0.6062\n",
      "Epoch 3/10\n",
      "1887/1887 [==============================] - 722s 308ms/step - loss: 1.4807 - accuracy: 0.5845 - val_loss: 1.2431 - val_accuracy: 0.6438\n",
      "Epoch 4/10\n",
      "1887/1887 [==============================] - 800s 317ms/step - loss: 1.3065 - accuracy: 0.6233 - val_loss: 1.0800 - val_accuracy: 0.6843\n",
      "Epoch 5/10\n",
      "1887/1887 [==============================] - 864s 344ms/step - loss: 1.1662 - accuracy: 0.6559 - val_loss: 1.0112 - val_accuracy: 0.6952\n",
      "Epoch 6/10\n",
      "1887/1887 [==============================] - 1116s 398ms/step - loss: 1.0565 - accuracy: 0.6834 - val_loss: 0.8770 - val_accuracy: 0.7460\n",
      "Epoch 7/10\n",
      "1887/1887 [==============================] - 1082s 427ms/step - loss: 0.9648 - accuracy: 0.7085 - val_loss: 0.8168 - val_accuracy: 0.7463\n",
      "Epoch 8/10\n",
      "1887/1887 [==============================] - 1126s 446ms/step - loss: 0.8829 - accuracy: 0.7285 - val_loss: 0.7075 - val_accuracy: 0.7832\n",
      "Epoch 9/10\n",
      "1887/1887 [==============================] - 1202s 469ms/step - loss: 0.8090 - accuracy: 0.7487 - val_loss: 0.6543 - val_accuracy: 0.7980\n",
      "Epoch 10/10\n",
      "1887/1887 [==============================] - 1251s 480ms/step - loss: 0.7496 - accuracy: 0.7648 - val_loss: 0.6660 - val_accuracy: 0.7984\n"
     ]
    }
   ],
   "source": [
    "# Reduce training size on non-powerful machines\n",
    "reduce_training_size = False\n",
    "actual_train_ds = train_ds.take(tf.data.experimental.cardinality(train_ds) // 100) if reduce_training_size else train_ds\n",
    "\n",
    "epochs = 10\n",
    "history = model.fit(\n",
    "  actual_train_ds,\n",
    "  validation_data=val_ds,\n",
    "  epochs=epochs,\n",
    "  callbacks=[tf.keras.callbacks.EarlyStopping(monitor='val_loss', patience=3, restore_best_weights=True)]\n",
    ")"
   ]
  },
  {
   "cell_type": "code",
   "execution_count": 9,
   "metadata": {},
   "outputs": [],
   "source": [
    "def plot_results(history, show_plot: bool = True):\n",
    "    fig, (ax1, ax2) = plt.subplots(nrows=1, ncols=2, figsize=(12, 5))\n",
    "    # Retrieve the training metrics (after each train epoch) and the final test accuracy.\n",
    "    train_accuracy = history.history['accuracy']\n",
    "    val_accuracy = history.history['val_accuracy']\n",
    "\n",
    "    ax1.set_title('Accuracy')\n",
    "    ax1.plot(train_accuracy, label='train_accuracy')\n",
    "    ax1.plot(val_accuracy, label='validation accuracy')\n",
    "    ax1.set_xlabel('Epochs')\n",
    "    ax1.legend()\n",
    "\n",
    "    train_loss = history.history['loss']\n",
    "    val_loss = history.history['val_loss']\n",
    "    ax2.set_title('Loss')\n",
    "    ax2.plot(train_loss, label='train loss')\n",
    "    ax2.plot(val_loss, label='validation loss')\n",
    "    ax2.set_xlabel('Epochs')\n",
    "    ax2.legend()\n",
    "\n",
    "    if show_plot:\n",
    "        plt.show()"
   ]
  },
  {
   "cell_type": "code",
   "execution_count": 10,
   "metadata": {},
   "outputs": [
    {
     "data": {
      "image/png": "[encoded data removed]",
      "text/plain": [
       "<Figure size 864x360 with 2 Axes>"
      ]
     },
     "metadata": {
      "needs_background": "light"
     },
     "output_type": "display_data"
    }
   ],
   "source": [
    "plot_results(history)"
   ]
  },
  {
   "attachments": {},
   "cell_type": "markdown",
   "metadata": {},
   "source": [
    "## Automate saving experiment results"
   ]
  },
  {
   "cell_type": "code",
   "execution_count": 11,
   "metadata": {},
   "outputs": [],
   "source": [
    "# Run and save experiment\n",
    "\n",
    "from typing import Any\n",
    "\n",
    "RESULTS_ROOT = r'D:\\Documents\\MIDS\\W281\\2023-mids-w281-final-project\\results'\n",
    "\n",
    "def run_and_save_experiment(name: str, \n",
    "                            model: Any,\n",
    "                            train_ds: tf.data.Dataset,\n",
    "                            val_ds: tf.data.Dataset,\n",
    "                            reduce_training_size: bool = False):\n",
    "    \n",
    "    experiment_dir = os.path.join(RESULTS_ROOT, name)\n",
    "    os.makedirs(experiment_dir, exist_ok=True)\n",
    "\n",
    "    actual_train_ds = train_ds.take(tf.data.experimental.cardinality(train_ds) // 100) if reduce_training_size else train_ds\n",
    "\n",
    "    epochs = 10\n",
    "    history = model.fit(\n",
    "        actual_train_ds,\n",
    "        validation_data=val_ds,\n",
    "        epochs=epochs,\n",
    "        callbacks=[tf.keras.callbacks.EarlyStopping(monitor='val_loss', patience=3, restore_best_weights=True)]\n",
    "    )\n",
    "\n",
    "    model.save_weights(os.path.join(experiment_dir, f'{name}_model_weights.h5'))\n",
    "\n",
    "    plot_results(history, show_plot=False)\n",
    "    plt.savefig(os.path.join(experiment_dir, f'{name}_history.png'))\n",
    "\n",
    "    with open(os.path.join(experiment_dir, f'{name}_model_summary.txt'), 'w') as f:\n",
    "        f.write(f'\\nTraining accuracy: {max(history.history[\"accuracy\"])}')\n",
    "        f.write(f'\\nValidation accuracy: {max(history.history[\"val_accuracy\"])}')\n",
    "    "
   ]
  },
  {
   "cell_type": "code",
   "execution_count": 60,
   "metadata": {},
   "outputs": [
    {
     "name": "stdout",
     "output_type": "stream",
     "text": [
      "Epoch 1/10\n",
      "1888/1888 [==============================] - 308s 162ms/step - loss: 2.8913 - accuracy: 0.2924 - val_loss: 2.3771 - val_accuracy: 0.3832\n",
      "Epoch 2/10\n",
      "1888/1888 [==============================] - 253s 134ms/step - loss: 2.0816 - accuracy: 0.4557 - val_loss: 2.1256 - val_accuracy: 0.4506\n",
      "Epoch 3/10\n",
      "1888/1888 [==============================] - 251s 133ms/step - loss: 1.8232 - accuracy: 0.5130 - val_loss: 1.8967 - val_accuracy: 0.4974\n",
      "Epoch 4/10\n",
      "1888/1888 [==============================] - 258s 136ms/step - loss: 1.6706 - accuracy: 0.5499 - val_loss: 1.7598 - val_accuracy: 0.5385\n",
      "Epoch 5/10\n",
      "1888/1888 [==============================] - 257s 136ms/step - loss: 1.5443 - accuracy: 0.5809 - val_loss: 1.8221 - val_accuracy: 0.5299\n",
      "Epoch 6/10\n",
      "1888/1888 [==============================] - 244s 129ms/step - loss: 1.4607 - accuracy: 0.5986 - val_loss: 1.6639 - val_accuracy: 0.5647\n",
      "Epoch 7/10\n",
      "1888/1888 [==============================] - 249s 132ms/step - loss: 1.3716 - accuracy: 0.6206 - val_loss: 1.7105 - val_accuracy: 0.5553\n",
      "Epoch 8/10\n",
      "1888/1888 [==============================] - 252s 133ms/step - loss: 1.3025 - accuracy: 0.6352 - val_loss: 1.6956 - val_accuracy: 0.5589\n",
      "Epoch 9/10\n",
      "1888/1888 [==============================] - 250s 132ms/step - loss: 1.2361 - accuracy: 0.6526 - val_loss: 1.8184 - val_accuracy: 0.5414\n"
     ]
    },
    {
     "data": {
      "image/png": "[encoded data removed]",
      "text/plain": [
       "<Figure size 864x360 with 2 Axes>"
      ]
     },
     "metadata": {
      "needs_background": "light"
     },
     "output_type": "display_data"
    }
   ],
   "source": [
    "run_and_save_experiment('normalized_resnet_tx_000100000000', model, train_ds, val_ds)"
   ]
  },
  {
   "cell_type": "code",
   "execution_count": null,
   "metadata": {},
   "outputs": [],
   "source": []
  }
 ],
 "metadata": {
  "kernelspec": {
   "display_name": "base",
   "language": "python",
   "name": "python3"
  },
  "language_info": {
   "codemirror_mode": {
    "name": "ipython",
    "version": 3
   },
   "file_extension": ".py",
   "mimetype": "text/x-python",
   "name": "python",
   "nbconvert_exporter": "python",
   "pygments_lexer": "ipython3",
   "version": "3.9.12"
  },
  "orig_nbformat": 4,
  "vscode": {
   "interpreter": {
    "hash": "fcd43461cec7b7ccbf4c103209b89f37f7373e7d9282f855715f0d3c4b1c9bbb"
   }
  }
 },
 "nbformat": 4,
 "nbformat_minor": 2
}
