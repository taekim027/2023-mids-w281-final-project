{
 "cells": [
  {
   "cell_type": "code",
   "execution_count": 1,
   "metadata": {},
   "outputs": [],
   "source": [
    "import os\n",
    "import sys\n",
    "import cv2\n",
    "import os\n",
    "import numpy as np\n",
    "import matplotlib.pyplot as plt\n",
    "import pandas as pd\n",
    "from typing import Iterable, Tuple, List\n",
    "import tensorflow as tf\n",
    "if not tf.config.list_physical_devices('GPU'):\n",
    "    print('Warning: without a GPU the training will take a long time...')\n"
   ]
  },
  {
   "cell_type": "code",
   "execution_count": null,
   "metadata": {},
   "outputs": [],
   "source": [
    "# Constants\n",
    "IMAGE_SIZE = (256, 256, 3)\n",
    "# SKETCH_ROOT = '/Users/taehun.kim/mids/rendered_256x256/256x256/sketch'\n",
    "SKETCH_ROOT = r'D:\\Documents\\MIDS\\W281\\2023-mids-w81-final-project-dataset\\256x256\\sketch'\n",
    "assert os.path.isdir(SKETCH_ROOT)"
   ]
  },
  {
   "cell_type": "code",
   "execution_count": 3,
   "metadata": {},
   "outputs": [],
   "source": [
    "def get_tensorflow_dataset(ratios: List[float], augmentations: List[str] = None, seed: int = 1, batch_size: int = 32) -> List[tf.data.Dataset]:\n",
    "    '''\n",
    "    Get tensorflow dataset using generator to avoid RAM limitations\n",
    "    Splits into train, val, test from all provided augmentations \n",
    "    '''\n",
    "\n",
    "    # No augmentation by default\n",
    "    augmentations = augmentations or ['tx_000000000000']\n",
    "\n",
    "    assert sum(ratios) == 1 and len(ratios) == 3, 'Sum of 3 ratios must add to 1'\n",
    "\n",
    "    datasets: List[Tuple[tf.data.Dataset, tf.data.Dataset, tf.data.Dataset]] = []\n",
    "    for aug in augmentations:\n",
    "        print(f'Reading images from augmentation {aug}...')\n",
    "        train_ds = tf.keras.utils.image_dataset_from_directory(\n",
    "            directory = os.path.join(SKETCH_ROOT, aug),\n",
    "            image_size = IMAGE_SIZE[:2],\n",
    "            label_mode='categorical',\n",
    "            seed = seed,\n",
    "            color_mode = 'rgb',\n",
    "            validation_split = (1 - ratios[0]),\n",
    "            subset = 'training',\n",
    "            batch_size=batch_size\n",
    "        )\n",
    "\n",
    "        val_ds = tf.keras.utils.image_dataset_from_directory(\n",
    "            directory = os.path.join(SKETCH_ROOT, aug),\n",
    "            image_size = IMAGE_SIZE[:2],\n",
    "            label_mode='categorical',\n",
    "            seed = seed,\n",
    "            color_mode = 'rgb',\n",
    "            validation_split = (1 - ratios[0]),\n",
    "            subset = 'validation',\n",
    "            batch_size=batch_size\n",
    "        )\n",
    "\n",
    "        val_batch_count = int(tf.data.experimental.cardinality(val_ds))\n",
    "        test_ds = val_ds.take(int(val_batch_count * ratios[1]))\n",
    "        val_ds = val_ds.skip(int(val_batch_count * ratios[1]))\n",
    "\n",
    "        datasets.append([train_ds, val_ds, test_ds])\n",
    "    \n",
    "    combined = datasets.pop()\n",
    "    for train, val, test in datasets:\n",
    "        combined[0] = combined[0].concatenate(train)\n",
    "        combined[1] = combined[1].concatenate(val)\n",
    "        combined[2] = combined[2].concatenate(test)\n",
    "\n",
    "    return combined"
   ]
  },
  {
   "cell_type": "code",
   "execution_count": 4,
   "metadata": {},
   "outputs": [
    {
     "name": "stdout",
     "output_type": "stream",
     "text": [
      "Reading images from augmentation tx_000000000000...\n",
      "Found 75481 files belonging to 125 classes.\n",
      "Using 60385 files for training.\n",
      "Found 75481 files belonging to 125 classes.\n",
      "Using 15096 files for validation.\n"
     ]
    }
   ],
   "source": [
    "train_ds, val_ds, test_ds = get_tensorflow_dataset([0.8, 0.1, 0.1], augmentations=['tx_000000000000'])"
   ]
  },
  {
   "cell_type": "code",
   "execution_count": 5,
   "metadata": {},
   "outputs": [],
   "source": [
    "# Build model\n",
    "pretrained_resnet = tf.keras.applications.ResNet50(\n",
    "    include_top=False,\n",
    "    input_shape=IMAGE_SIZE,\n",
    "    pooling='avg',\n",
    "    classes=NUM_CLASSES,\n",
    ")\n",
    "pretrained_resnet.trainable = False\n",
    "\n",
    "tf.keras.backend.clear_session()\n",
    "layer = tf.keras.layers.Dense(1024, activation='relu')(pretrained_resnet.output)\n",
    "layer = tf.keras.layers.Dense(512, activation='relu')(layer)\n",
    "outputs = tf.keras.layers.Dense(len(train_ds.class_names), activation='softmax')(layer)\n",
    "model = tf.keras.Model(pretrained_resnet.input, outputs)"
   ]
  },
  {
   "cell_type": "code",
   "execution_count": 6,
   "metadata": {},
   "outputs": [],
   "source": [
    "model.compile(\n",
    "    optimizer='adam',\n",
    "    loss='categorical_crossentropy',\n",
    "    metrics=['accuracy']\n",
    ")"
   ]
  },
  {
   "cell_type": "code",
   "execution_count": 7,
   "metadata": {},
   "outputs": [
    {
     "name": "stdout",
     "output_type": "stream",
     "text": [
      "Epoch 1/10\n",
      "1888/1888 [==============================] - 277s 143ms/step - loss: 2.2668 - accuracy: 0.4217 - val_loss: 1.7361 - val_accuracy: 0.5319\n",
      "Epoch 2/10\n",
      "1888/1888 [==============================] - 243s 129ms/step - loss: 1.5440 - accuracy: 0.5779 - val_loss: 1.5602 - val_accuracy: 0.5764\n",
      "Epoch 3/10\n",
      "1888/1888 [==============================] - 239s 127ms/step - loss: 1.3153 - accuracy: 0.6340 - val_loss: 1.4245 - val_accuracy: 0.6193\n",
      "Epoch 4/10\n",
      "1888/1888 [==============================] - 232s 123ms/step - loss: 1.1702 - accuracy: 0.6671 - val_loss: 1.3686 - val_accuracy: 0.6355\n",
      "Epoch 5/10\n",
      "1888/1888 [==============================] - 232s 123ms/step - loss: 1.0532 - accuracy: 0.6975 - val_loss: 1.4448 - val_accuracy: 0.6276\n",
      "Epoch 6/10\n",
      "1888/1888 [==============================] - 232s 123ms/step - loss: 0.9673 - accuracy: 0.7173 - val_loss: 1.4165 - val_accuracy: 0.6429\n",
      "Epoch 7/10\n",
      "1888/1888 [==============================] - 232s 123ms/step - loss: 0.8823 - accuracy: 0.7398 - val_loss: 1.4809 - val_accuracy: 0.6390\n"
     ]
    }
   ],
   "source": [
    "# Reduce training size on non-powerful machines\n",
    "reduce_training_size = False\n",
    "actual_train_ds = train_ds.take(tf.data.experimental.cardinality(train_ds) // 100) if reduce_training_size else train_ds\n",
    "\n",
    "epochs = 10\n",
    "history = model.fit(\n",
    "  actual_train_ds,\n",
    "  validation_data=val_ds,\n",
    "  epochs=epochs,\n",
    "  callbacks=[tf.keras.callbacks.EarlyStopping(monitor='val_loss', patience=3, restore_best_weights=True)]\n",
    ")"
   ]
  },
  {
   "cell_type": "code",
   "execution_count": 8,
   "metadata": {},
   "outputs": [],
   "source": [
    "def plot_results(history):\n",
    "    fig, (ax1, ax2) = plt.subplots(nrows=1, ncols=2, figsize=(12, 5))\n",
    "    # Retrieve the training metrics (after each train epoch) and the final test accuracy.\n",
    "    train_accuracy = history.history['accuracy']\n",
    "    val_accuracy = history.history['val_accuracy']\n",
    "\n",
    "    ax1.set_title('Accuracy')\n",
    "    ax1.plot(train_accuracy, label='train_accuracy')\n",
    "    ax1.plot(val_accuracy, label='validation accuracy')\n",
    "    ax1.set_xlabel('Epochs')\n",
    "    ax1.legend()\n",
    "\n",
    "    train_loss = history.history['loss']\n",
    "    val_loss = history.history['val_loss']\n",
    "    ax2.set_title('Loss')\n",
    "    ax2.plot(train_loss, label='train loss')\n",
    "    ax2.plot(val_loss, label='validation loss')\n",
    "    ax2.set_xlabel('Epochs')\n",
    "    ax2.legend()\n",
    "\n",
    "    plt.show()"
   ]
  },
  {
   "cell_type": "code",
   "execution_count": 9,
   "metadata": {},
   "outputs": [
    {
     "data": {
      "image/png": "[encoded data removed]",
      "text/plain": [
       "<Figure size 864x360 with 2 Axes>"
      ]
     },
     "metadata": {
      "needs_background": "light"
     },
     "output_type": "display_data"
    }
   ],
   "source": [
    "plot_results(history)"
   ]
  },
  {
   "cell_type": "code",
   "execution_count": null,
   "metadata": {},
   "outputs": [],
   "source": []
  }
 ],
 "metadata": {
  "kernelspec": {
   "display_name": "base",
   "language": "python",
   "name": "python3"
  },
  "language_info": {
   "codemirror_mode": {
    "name": "ipython",
    "version": 3
   },
   "file_extension": ".py",
   "mimetype": "text/x-python",
   "name": "python",
   "nbconvert_exporter": "python",
   "pygments_lexer": "ipython3",
   "version": "3.9.12"
  },
  "orig_nbformat": 4,
  "vscode": {
   "interpreter": {
    "hash": "fcd43461cec7b7ccbf4c103209b89f37f7373e7d9282f855715f0d3c4b1c9bbb"
   }
  }
 },
 "nbformat": 4,
 "nbformat_minor": 2
}
