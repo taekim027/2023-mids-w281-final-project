{
 "cells": [
  {
   "cell_type": "code",
   "execution_count": 1,
   "metadata": {},
   "outputs": [],
   "source": [
    "import os\n",
    "import sys\n",
    "import cv2\n",
    "import os\n",
    "import numpy as np\n",
    "import matplotlib.pyplot as plt\n",
    "import pandas as pd\n",
    "from typing import Iterable, Tuple, List\n",
    "import tensorflow as tf\n",
    "if not tf.config.list_physical_devices('GPU'):\n",
    "    print('Warning: without a GPU the training will take a long time...')\n"
   ]
  },
  {
   "cell_type": "code",
   "execution_count": 2,
   "metadata": {},
   "outputs": [],
   "source": [
    "# Constants\n",
    "IMAGE_SIZE = (256, 256, 3)\n",
    "NUM_CLASSES = 125\n",
    "# SKETCH_ROOT = '/Users/taehun.kim/mids/rendered_256x256/256x256/sketch'\n",
    "SKETCH_ROOT = r'D:\\Documents\\MIDS\\W281\\2023-mids-w81-final-project-dataset\\256x256\\sketch'\n",
    "assert os.path.isdir(SKETCH_ROOT)"
   ]
  },
  {
   "attachments": {},
   "cell_type": "markdown",
   "metadata": {},
   "source": [
    "## Load images as tensorflow dataset"
   ]
  },
  {
   "cell_type": "code",
   "execution_count": 3,
   "metadata": {},
   "outputs": [],
   "source": [
    "def get_image_dataset(ratios: List[float], augmentations: List[str] = None, color_mode: str = 'rgb',\n",
    "                    seed: int = 1, batch_size: int = 32) -> List[tf.data.Dataset]:\n",
    "    '''\n",
    "    Get tensorflow dataset using generator to avoid RAM limitations\n",
    "    Splits into train, val, test from all provided augmentations \n",
    "    '''\n",
    "\n",
    "    # No augmentation by default\n",
    "    augmentations = augmentations or ['tx_000000000000']\n",
    "\n",
    "    assert sum(ratios) == 1 and len(ratios) == 3, 'Sum of 3 ratios must add to 1'\n",
    "\n",
    "    datasets: List[Tuple[tf.data.Dataset, tf.data.Dataset, tf.data.Dataset]] = []\n",
    "    for aug in augmentations:\n",
    "        print(f'Reading images from augmentation {aug}...')\n",
    "        train_ds = tf.keras.utils.image_dataset_from_directory(\n",
    "            directory = os.path.join(SKETCH_ROOT, aug),\n",
    "            image_size = IMAGE_SIZE[:2],\n",
    "            label_mode='categorical',\n",
    "            seed = seed,\n",
    "            color_mode = color_mode,\n",
    "            validation_split = (1 - ratios[0]),\n",
    "            subset = 'training',\n",
    "            batch_size=batch_size\n",
    "        )\n",
    "\n",
    "        val_ds = tf.keras.utils.image_dataset_from_directory(\n",
    "            directory = os.path.join(SKETCH_ROOT, aug),\n",
    "            image_size = IMAGE_SIZE[:2],\n",
    "            label_mode='categorical',\n",
    "            seed = seed,\n",
    "            color_mode = 'rgb',\n",
    "            validation_split = (1 - ratios[0]),\n",
    "            subset = 'validation',\n",
    "            batch_size=batch_size\n",
    "        )\n",
    "\n",
    "        val_batch_count = int(tf.data.experimental.cardinality(val_ds))\n",
    "        test_ds = val_ds.take(int(val_batch_count * ratios[1]))\n",
    "        val_ds = val_ds.skip(int(val_batch_count * ratios[1]))\n",
    "\n",
    "        datasets.append([train_ds, val_ds, test_ds])\n",
    "    \n",
    "    combined = datasets.pop()\n",
    "    for train, val, test in datasets:\n",
    "        combined[0] = combined[0].concatenate(train)\n",
    "        combined[1] = combined[1].concatenate(val)\n",
    "        combined[2] = combined[2].concatenate(test)\n",
    "\n",
    "    return [c.shuffle(batch_size) for c in combined]"
   ]
  },
  {
   "cell_type": "code",
   "execution_count": 4,
   "metadata": {},
   "outputs": [
    {
     "name": "stdout",
     "output_type": "stream",
     "text": [
      "Reading images from augmentation tx_000100000000...\n",
      "Found 75481 files belonging to 125 classes.\n",
      "Using 60385 files for training.\n",
      "Found 75481 files belonging to 125 classes.\n",
      "Using 15096 files for validation.\n"
     ]
    }
   ],
   "source": [
    "train_ds, val_ds, test_ds = get_image_dataset([0.8, 0.1, 0.1], augmentations=['tx_000100000000'])"
   ]
  },
  {
   "cell_type": "code",
   "execution_count": null,
   "metadata": {},
   "outputs": [],
   "source": [
    "HOG_INPUT_SIZE = (2048,)\n",
    "\n",
    "def get_hog_features(ratios: List[float], augmentations: List[str] = None,\n",
    "                     seed: int = 1, batch_size: int = 32) -> List[tf.data.Dataset]:\n",
    "    '''\n",
    "    Get tensorflow dataset using generator to avoid RAM limitations\n",
    "    Splits into train, val, test from all provided augmentations \n",
    "    '''\n",
    "    # TODO: implement this\n",
    "    pass\n",
    "    # def reshape_hog_to_vector(input):\n",
    "    #     input.reshape()\n",
    "    \n",
    "\n",
    "    # train, val, test = get_image_dataset(ratios, augmentations, seed, batch_size, color_mode='grayscale')\n",
    "    # train.map(lambda image: tf.image.resize_image_with_crop_or_pad(image, 224, 224))"
   ]
  },
  {
   "cell_type": "code",
   "execution_count": 9,
   "metadata": {},
   "outputs": [],
   "source": [
    "import math\n",
    "\n",
    "def _build_resnet_layers():\n",
    "    pretrained_resnet = tf.keras.applications.ResNet50(\n",
    "        include_top=False,\n",
    "        input_shape=IMAGE_SIZE,\n",
    "        pooling='avg',\n",
    "        classes=125,\n",
    "    )\n",
    "    pretrained_resnet.trainable = False\n",
    "\n",
    "    tf.keras.backend.clear_session()\n",
    "    layer = tf.keras.layers.Dense(1024, activation='relu')(pretrained_resnet.output)\n",
    "    layer = tf.keras.layers.Dense(512, activation='relu')(layer)\n",
    "    return pretrained_resnet.input, layer\n",
    "\n",
    "def _build_sketch_a_net_layers():\n",
    "    # Input layer\n",
    "    inputs = tf.keras.layers.Input(shape=IMAGE_SIZE)\n",
    "    \n",
    "    # Convolutional Layer 1\n",
    "    conv1 = tf.keras.layers.Conv2D(64, (15, 15), activation='relu', padding='valid')(inputs)\n",
    "    maxpool1 = tf.keras.layers.MaxPooling2D(pool_size=(3, 3), strides=(3, 3), padding='same')(conv1)\n",
    "    \n",
    "    # Convolutional Layer 2\n",
    "    conv2 = tf.keras.layers.Conv2D(128, (5, 5), activation='relu', padding='valid')(maxpool1)\n",
    "    maxpool2 = tf.keras.layers.MaxPooling2D(pool_size=(3, 3), strides=(3, 3), padding='same')(conv2)\n",
    "    \n",
    "    # Convolutional Layer 3\n",
    "    conv3 = tf.keras.layers.Conv2D(256, (3, 3), activation='relu', padding='valid')(maxpool2)\n",
    "    \n",
    "    # Convolutional Layer 4\n",
    "    conv4 = tf.keras.layers.Conv2D(256, (3, 3), activation='relu', padding='valid')(conv3)\n",
    "    \n",
    "    # Convolutional Layer 5\n",
    "    conv5 = tf.keras.layers.Conv2D(256, (3, 3), activation='relu', padding='valid')(conv4)\n",
    "    maxpool5 = tf.keras.layers.MaxPooling2D(pool_size=(3, 3), strides=(3, 3), padding='same')(conv5)\n",
    "    \n",
    "    # Flatten\n",
    "    flatten = tf.keras.layers.Flatten()(maxpool5)\n",
    "    \n",
    "    # Fully Connected Layers\n",
    "    dense1 = tf.keras.layers.Dense(1024, activation='relu')(flatten)\n",
    "    dropout1 = tf.keras.layers.Dropout(0.5)(dense1)\n",
    "    dense2 = tf.keras.layers.Dense(512, activation='relu')(dropout1)\n",
    "    dropout2 = tf.keras.layers.Dropout(0.5)(dense2)\n",
    "    return inputs, dropout2\n",
    "\n",
    "def build_naive_sketch_a_net():\n",
    "    cnn_input, cnn_output = _build_sketch_a_net_layers()\n",
    "    \n",
    "    outputs = tf.keras.layers.Dense(NUM_CLASSES, activation='softmax')(cnn_output)\n",
    "    return tf.keras.Model(cnn_input, outputs)\n",
    "\n",
    "def build_naive_cnn():\n",
    "    cnn_input, cnn_output = _build_resnet_layers()\n",
    "    \n",
    "    outputs = tf.keras.layers.Dense(NUM_CLASSES, activation='softmax')(cnn_output)\n",
    "    return tf.keras.Model(cnn_input, outputs)\n",
    "\n",
    "def build_cnn_with_hog():\n",
    "    cnn_input, cnn_output = _build_resnet_layers()\n",
    "\n",
    "    hog_shape = (math.prod(IMAGE_SIZE),)\n",
    "    hog_input = tf.keras.layers.Input(shape=hog_shape, name='hog_input')\n",
    "\n",
    "    combined_output = tf.keras.layers.Concatenate()([cnn_output, hog_input])\n",
    "    return tf.keras.Model(inputs=[cnn_input, hog_input], outputs=combined_output)\n"
   ]
  },
  {
   "cell_type": "code",
   "execution_count": 10,
   "metadata": {},
   "outputs": [],
   "source": [
    "model = build_naive_sketch_a_net()"
   ]
  },
  {
   "cell_type": "code",
   "execution_count": 11,
   "metadata": {},
   "outputs": [],
   "source": [
    "model.compile(\n",
    "    optimizer='adam',\n",
    "    loss='categorical_crossentropy',\n",
    "    metrics=['accuracy']\n",
    ")"
   ]
  },
  {
   "cell_type": "code",
   "execution_count": 7,
   "metadata": {},
   "outputs": [
    {
     "name": "stdout",
     "output_type": "stream",
     "text": [
      "Epoch 1/10\n",
      "1888/1888 [==============================] - 351s 182ms/step - loss: 2.1408 - accuracy: 0.4526 - val_loss: 1.5499 - val_accuracy: 0.5767\n",
      "Epoch 2/10\n",
      "1888/1888 [==============================] - 309s 164ms/step - loss: 1.4070 - accuracy: 0.6142 - val_loss: 1.3754 - val_accuracy: 0.6278\n",
      "Epoch 3/10\n",
      "1888/1888 [==============================] - 234s 124ms/step - loss: 1.1881 - accuracy: 0.6661 - val_loss: 1.2595 - val_accuracy: 0.6558\n",
      "Epoch 4/10\n",
      "1888/1888 [==============================] - 233s 123ms/step - loss: 1.0509 - accuracy: 0.7009 - val_loss: 1.2645 - val_accuracy: 0.6647\n",
      "Epoch 5/10\n",
      "1888/1888 [==============================] - 233s 123ms/step - loss: 0.9449 - accuracy: 0.7270 - val_loss: 1.2199 - val_accuracy: 0.6801\n",
      "Epoch 6/10\n",
      "1888/1888 [==============================] - 233s 123ms/step - loss: 0.8788 - accuracy: 0.7435 - val_loss: 1.3022 - val_accuracy: 0.6738\n",
      "Epoch 7/10\n",
      "1888/1888 [==============================] - 233s 123ms/step - loss: 0.7922 - accuracy: 0.7674 - val_loss: 1.3098 - val_accuracy: 0.6811\n",
      "Epoch 8/10\n",
      "1888/1888 [==============================] - 237s 125ms/step - loss: 0.7296 - accuracy: 0.7806 - val_loss: 1.5053 - val_accuracy: 0.6519\n"
     ]
    }
   ],
   "source": [
    "# Reduce training size on non-powerful machines\n",
    "reduce_training_size = False\n",
    "actual_train_ds = train_ds.take(tf.data.experimental.cardinality(train_ds) // 100) if reduce_training_size else train_ds\n",
    "\n",
    "epochs = 10\n",
    "history = model.fit(\n",
    "  actual_train_ds,\n",
    "  validation_data=val_ds,\n",
    "  epochs=epochs,\n",
    "  callbacks=[tf.keras.callbacks.EarlyStopping(monitor='val_loss', patience=3, restore_best_weights=True)]\n",
    ")"
   ]
  },
  {
   "cell_type": "code",
   "execution_count": 12,
   "metadata": {},
   "outputs": [],
   "source": [
    "def plot_results(history, show_plot: bool = True):\n",
    "    fig, (ax1, ax2) = plt.subplots(nrows=1, ncols=2, figsize=(12, 5))\n",
    "    # Retrieve the training metrics (after each train epoch) and the final test accuracy.\n",
    "    train_accuracy = history.history['accuracy']\n",
    "    val_accuracy = history.history['val_accuracy']\n",
    "\n",
    "    ax1.set_title('Accuracy')\n",
    "    ax1.plot(train_accuracy, label='train_accuracy')\n",
    "    ax1.plot(val_accuracy, label='validation accuracy')\n",
    "    ax1.set_xlabel('Epochs')\n",
    "    ax1.legend()\n",
    "\n",
    "    train_loss = history.history['loss']\n",
    "    val_loss = history.history['val_loss']\n",
    "    ax2.set_title('Loss')\n",
    "    ax2.plot(train_loss, label='train loss')\n",
    "    ax2.plot(val_loss, label='validation loss')\n",
    "    ax2.set_xlabel('Epochs')\n",
    "    ax2.legend()\n",
    "\n",
    "    if show_plot:\n",
    "        plt.show()"
   ]
  },
  {
   "cell_type": "code",
   "execution_count": 9,
   "metadata": {},
   "outputs": [
    {
     "data": {
      "image/png": "[encoded data removed]",
      "text/plain": [
       "<Figure size 864x360 with 2 Axes>"
      ]
     },
     "metadata": {
      "needs_background": "light"
     },
     "output_type": "display_data"
    }
   ],
   "source": [
    "plot_results(history)"
   ]
  },
  {
   "attachments": {},
   "cell_type": "markdown",
   "metadata": {},
   "source": [
    "## Automate saving experiment results"
   ]
  },
  {
   "cell_type": "code",
   "execution_count": 13,
   "metadata": {},
   "outputs": [],
   "source": [
    "# Run and save experiment\n",
    "\n",
    "from typing import Any\n",
    "\n",
    "RESULTS_ROOT = r'D:\\Documents\\MIDS\\W281\\2023-mids-w281-final-project\\results'\n",
    "\n",
    "def run_and_save_experiment(name: str, \n",
    "                            model: Any,\n",
    "                            train_ds: tf.data.Dataset,\n",
    "                            val_ds: tf.data.Dataset,\n",
    "                            reduce_training_size: bool = False):\n",
    "    \n",
    "    experiment_dir = os.path.join(RESULTS_ROOT, name)\n",
    "    os.makedirs(experiment_dir, exist_ok=True)\n",
    "\n",
    "    actual_train_ds = train_ds.take(tf.data.experimental.cardinality(train_ds) // 100) if reduce_training_size else train_ds\n",
    "\n",
    "    epochs = 10\n",
    "    history = model.fit(\n",
    "        actual_train_ds,\n",
    "        validation_data=val_ds,\n",
    "        epochs=epochs,\n",
    "        callbacks=[tf.keras.callbacks.EarlyStopping(monitor='val_loss', patience=3, restore_best_weights=True)]\n",
    "    )\n",
    "\n",
    "    model.save_weights(os.path.join(experiment_dir, f'{name}_model_weights.h5'))\n",
    "\n",
    "    plot_results(history, show_plot=False)\n",
    "    plt.savefig(os.path.join(experiment_dir, f'{name}_history.png'))\n",
    "\n",
    "    with open(os.path.join(experiment_dir, f'{name}_model_summary.txt'), 'w') as f:\n",
    "        f.write(f'\\nTraining accuracy: {max(history.history[\"accuracy\"])}')\n",
    "        f.write(f'\\nValidation accuracy: {max(history.history[\"val_accuracy\"])}')\n",
    "    "
   ]
  },
  {
   "cell_type": "code",
   "execution_count": 14,
   "metadata": {},
   "outputs": [
    {
     "name": "stdout",
     "output_type": "stream",
     "text": [
      "Epoch 1/10\n",
      "1888/1888 [==============================] - 246s 126ms/step - loss: 4.9775 - accuracy: 0.0091 - val_loss: 4.8252 - val_accuracy: 0.0076\n",
      "Epoch 2/10\n",
      "1888/1888 [==============================] - 226s 119ms/step - loss: 4.8251 - accuracy: 0.0093 - val_loss: 4.8248 - val_accuracy: 0.0088\n",
      "Epoch 3/10\n",
      "1888/1888 [==============================] - 226s 120ms/step - loss: 4.8246 - accuracy: 0.0094 - val_loss: 4.8249 - val_accuracy: 0.0100\n",
      "Epoch 4/10\n",
      "1888/1888 [==============================] - 226s 120ms/step - loss: 4.8243 - accuracy: 0.0093 - val_loss: 4.8247 - val_accuracy: 0.0082\n",
      "Epoch 5/10\n",
      "1888/1888 [==============================] - 250s 132ms/step - loss: 4.8242 - accuracy: 0.0093 - val_loss: 4.8249 - val_accuracy: 0.0082\n",
      "Epoch 6/10\n",
      "1888/1888 [==============================] - 310s 164ms/step - loss: 4.8241 - accuracy: 0.0097 - val_loss: 4.8247 - val_accuracy: 0.0082\n",
      "Epoch 7/10\n",
      "1888/1888 [==============================] - 320s 169ms/step - loss: 4.8240 - accuracy: 0.0094 - val_loss: 4.8248 - val_accuracy: 0.0082\n",
      "Epoch 8/10\n",
      "1888/1888 [==============================] - 221s 117ms/step - loss: 4.8240 - accuracy: 0.0091 - val_loss: 4.8248 - val_accuracy: 0.0082\n",
      "Epoch 9/10\n",
      "1888/1888 [==============================] - 212s 112ms/step - loss: 4.8240 - accuracy: 0.0096 - val_loss: 4.8248 - val_accuracy: 0.0082\n"
     ]
    },
    {
     "data": {
      "image/png": "[encoded data removed]",
      "text/plain": [
       "<Figure size 864x360 with 2 Axes>"
      ]
     },
     "metadata": {
      "needs_background": "light"
     },
     "output_type": "display_data"
    }
   ],
   "source": [
    "run_and_save_experiment('naive_sketchanet_tx_000100000000', model, train_ds, val_ds)"
   ]
  },
  {
   "cell_type": "code",
   "execution_count": null,
   "metadata": {},
   "outputs": [],
   "source": []
  }
 ],
 "metadata": {
  "kernelspec": {
   "display_name": "base",
   "language": "python",
   "name": "python3"
  },
  "language_info": {
   "codemirror_mode": {
    "name": "ipython",
    "version": 3
   },
   "file_extension": ".py",
   "mimetype": "text/x-python",
   "name": "python",
   "nbconvert_exporter": "python",
   "pygments_lexer": "ipython3",
   "version": "3.9.12"
  },
  "orig_nbformat": 4,
  "vscode": {
   "interpreter": {
    "hash": "fcd43461cec7b7ccbf4c103209b89f37f7373e7d9282f855715f0d3c4b1c9bbb"
   }
  }
 },
 "nbformat": 4,
 "nbformat_minor": 2
}
