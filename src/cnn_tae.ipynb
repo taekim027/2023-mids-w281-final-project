{
 "cells": [
  {
   "cell_type": "code",
   "execution_count": 4,
   "metadata": {},
   "outputs": [],
   "source": [
    "import os\n",
    "import sys\n",
    "\n",
    "# If the following line throws an error, do `pip install -e ./` from the base repo dir\n",
    "import utils\n",
    "\n",
    "# Change to match data filepath on local\n",
    "base_fp = r'D:\\Documents\\MIDS\\W281\\2023-mids-w81-final-project-dataset\\256x256'"
   ]
  },
  {
   "cell_type": "code",
   "execution_count": 1,
   "metadata": {},
   "outputs": [],
   "source": [
    "import cv2\n",
    "import os\n",
    "import numpy as np\n",
    "import matplotlib.pyplot as plt\n",
    "import pandas as pd\n",
    "import tensorflow as tf\n",
    "from typing import Iterable, Tuple, List\n",
    "from pathlib import Path\n"
   ]
  },
  {
   "cell_type": "code",
   "execution_count": null,
   "metadata": {},
   "outputs": [],
   "source": [
    "def build_model(optimizer: str,\n",
    "        conv_layers: List[int],\n",
    "        hidden_layers: List[int], \n",
    "        activation: str = 'relu',\n",
    "        dropout_rate: float = 0.0,\n",
    "        regularize: bool = False,\n",
    "        normalize: bool = False) -> keras.Sequential:\n",
    "    ''' Build CNN model with given parameters'''\n",
    "    \n",
    "    tf.keras.backend.clear_session()\n",
    "    model = keras.Sequential()\n",
    "\n",
    "    regularizer = tf.keras.regularizers.l2(l=0.01) if regularize else None\n",
    "\n",
    "    for i, layer in enumerate(conv_layers):\n",
    "        # Convolutional layer and maxpool layer\n",
    "        if i == 0:\n",
    "            model.add(keras.layers.Conv2D(layer,(3,3),activation=activation,input_shape=IMAGE_SHAPE, kernel_regularizer=regularizer))\n",
    "        else:\n",
    "            model.add(keras.layers.Conv2D(layer,(3,3),activation=activation, kernel_regularizer=regularizer))\n",
    "        model.add(keras.layers.MaxPool2D(2,2))\n",
    "        if dropout_rate > 0:\n",
    "            model.add(keras.layers.Dropout(dropout_rate))\n",
    "\n",
    "    # This layer flattens the resulting image array to 1D array\n",
    "    model.add(keras.layers.Flatten())\n",
    "\n",
    "    for i, hidden in enumerate(hidden_layers):\n",
    "        model.add(keras.layers.Dense(hidden,activation=activation))\n",
    "        if dropout_rate > 0:\n",
    "            model.add(keras.layers.Dropout(dropout_rate))\n",
    "        if i != 0 and i != len(hidden_layers) - 1 and normalize:\n",
    "            model.add(keras.layers.BatchNormalization())\n",
    "\n",
    "\n",
    "    # Output layer with single neuron between 0 and 1\n",
    "    model.add(keras.layers.Dense(1,activation='sigmoid'))\n",
    "    \n",
    "    model.compile(optimizer=optimizer, loss='binary_crossentropy', metrics=['accuracy'])\n",
    "    return model\n"
   ]
  }
 ],
 "metadata": {
  "kernelspec": {
   "display_name": "base",
   "language": "python",
   "name": "python3"
  },
  "language_info": {
   "codemirror_mode": {
    "name": "ipython",
    "version": 3
   },
   "file_extension": ".py",
   "mimetype": "text/x-python",
   "name": "python",
   "nbconvert_exporter": "python",
   "pygments_lexer": "ipython3",
   "version": "3.10.0"
  },
  "orig_nbformat": 4,
  "vscode": {
   "interpreter": {
    "hash": "fcd43461cec7b7ccbf4c103209b89f37f7373e7d9282f855715f0d3c4b1c9bbb"
   }
  }
 },
 "nbformat": 4,
 "nbformat_minor": 2
}
