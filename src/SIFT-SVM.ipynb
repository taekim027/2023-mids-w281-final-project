{
 "cells": [
  {
   "cell_type": "code",
   "execution_count": 98,
   "id": "fbf836d9",
   "metadata": {},
   "outputs": [
    {
     "data": {
      "text/plain": [
       "125"
      ]
     },
     "execution_count": 98,
     "metadata": {},
     "output_type": "execute_result"
    }
   ],
   "source": [
    "import cv2\n",
    "import numpy as np\n",
    "import os\n",
    "from sklearn.svm import SVC\n",
    "from sklearn.model_selection import train_test_split\n",
    "\n",
    "from sklearn.cluster import KMeans\n",
    "import pickle\n",
    "from scipy.spatial.distance import cdist\n",
    "\n",
    "# Path to the folder containing all the images\n",
    "path = \"/Users/michelle/Desktop/W281/final_project/rendered_256x256/256x256/sketch/tx_000100000000\"\n",
    "\n",
    "# List all the subdirectories (i.e., categories) in the main folder\n",
    "categories = os.listdir(path)\n",
    "categories = [x for x in categories if x != '.DS_Store']\n",
    "len(categories)"
   ]
  },
  {
   "cell_type": "code",
   "execution_count": 99,
   "id": "5e169d08",
   "metadata": {},
   "outputs": [
    {
     "name": "stdout",
     "output_type": "stream",
     "text": [
      "CPU times: user 20min 4s, sys: 15min 10s, total: 35min 14s\n",
      "Wall time: 21min 55s\n"
     ]
    }
   ],
   "source": [
    "%%time\n",
    "sift = cv2.SIFT_create(nfeatures=200, nOctaveLayers=4, contrastThreshold=0.04, edgeThreshold=15, sigma=1.0)\n",
    "\n",
    "# Define a list to store the descriptors of all the images\n",
    "descriptors = []\n",
    "\n",
    "# Define a list to store the corresponding labels of all the images\n",
    "labels = []\n",
    "\n",
    "# Loop through all the categories\n",
    "for i, category in enumerate(categories):\n",
    "    # Get the path to the category folder\n",
    "    category_path = os.path.join(path, category)\n",
    "    # List all the images in the category folder\n",
    "    images = os.listdir(category_path)\n",
    "    # Loop through all the images in the category folder\n",
    "    for image in images:\n",
    "        # Get the path to the image\n",
    "        image_path = os.path.join(category_path, image)\n",
    "        # Read the image\n",
    "        img = cv2.imread(image_path)\n",
    "        # Convert the image to grayscale\n",
    "        gray = cv2.cvtColor(img, cv2.COLOR_BGR2GRAY)\n",
    "        # Get the keypoints and descriptors using SIFT\n",
    "        kp, des = sift.detectAndCompute(gray, None)\n",
    "        # Reduce the descriptor size to 64 dimensions for speed\n",
    "        des = des[:, :64]\n",
    "        # Store the descriptors in the descriptors list\n",
    "        descriptors.append(des.flatten())\n",
    "        # Store the label i\n",
    "        labels.append(i)\n",
    "        \n",
    "        if len(descriptors) != len(labels):\n",
    "            print(i)\n",
    "            print(image_path)\n",
    "            break"
   ]
  },
  {
   "cell_type": "code",
   "execution_count": 100,
   "id": "8db4ab6a",
   "metadata": {},
   "outputs": [],
   "source": [
    "# standardize vector length\n",
    "max_len = max([len(x) for x in descriptors])\n",
    "new_arr = [np.pad(x, (0, (max_len-len(x)))) for x in descriptors]\n",
    "#new_descriptors = [x[:min_length] for x in descriptors]"
   ]
  },
  {
   "cell_type": "code",
   "execution_count": null,
   "id": "62a0e624",
   "metadata": {},
   "outputs": [],
   "source": [
    "%%time\n",
    "X_train, X_test, Y_train, Y_test = train_test_split(new_arr, labels, test_size = 0.2, random_state = 1)\n",
    "model_svm = SVC(C = 30, random_state = 0)\n",
    "model_svm.fit(X_train, Y_train)"
   ]
  },
  {
   "cell_type": "code",
   "execution_count": null,
   "id": "3bb37e25",
   "metadata": {},
   "outputs": [],
   "source": [
    "%%time\n",
    "# Evaluate the model on the testing set\n",
    "accuracy = model_svm.score(X_test, Y_test)\n",
    "\n",
    "print(\"Accuracy:\", accuracy)"
   ]
  },
  {
   "cell_type": "code",
   "execution_count": null,
   "id": "f8e1c126",
   "metadata": {},
   "outputs": [],
   "source": [
    "with open('svm_model.pkl', 'wb') as f:\n",
    "    pickle.dump(model_svm, f)"
   ]
  },
  {
   "cell_type": "code",
   "execution_count": null,
   "id": "a0c582e1",
   "metadata": {},
   "outputs": [],
   "source": [
    "%%time\n",
    "model_svm_linear = SVC(kernel = 'linear', C = 20, random_state = 0)\n",
    "model_svm_linear.fit(X_train, Y_train)"
   ]
  },
  {
   "cell_type": "code",
   "execution_count": null,
   "id": "f5bec071",
   "metadata": {},
   "outputs": [],
   "source": [
    "%%time\n",
    "# Evaluate the model on the testing set\n",
    "accuracy_linear = model_svm_linear.score(X_test, Y_test)\n",
    "\n",
    "print(\"Accuracy:\", accuracy)"
   ]
  },
  {
   "cell_type": "code",
   "execution_count": null,
   "id": "87192157",
   "metadata": {},
   "outputs": [],
   "source": [
    "with open('svm_model_linear.pkl', 'wb') as f:\n",
    "    pickle.dump(model_svm_linear, f)"
   ]
  },
  {
   "cell_type": "markdown",
   "id": "e6a5faec",
   "metadata": {},
   "source": [
    "### DONT RUN BELOW - KMEANS Approach"
   ]
  },
  {
   "cell_type": "code",
   "execution_count": 17,
   "id": "2cb9a78f",
   "metadata": {},
   "outputs": [],
   "source": [
    "def kmean_bow(all_descriptors, num_cluster):\n",
    "    \"\"\" run kmeans on the descriptors \"\"\"\n",
    "    bow_dict = []\n",
    "\n",
    "    kmeans = KMeans(n_clusters = num_cluster)\n",
    "    kmeans.fit(all_descriptors)\n",
    "\n",
    "    bow_dict = kmeans.cluster_centers_\n",
    "\n",
    "    return bow_dict\n",
    "\n",
    "\n",
    "def create_feature_bow(image_descriptors, BoW, num_cluster):\n",
    "\n",
    "    X_features = []\n",
    "\n",
    "    for i in range(len(image_descriptors)):\n",
    "        features = np.array([0] * num_cluster)\n",
    "\n",
    "        if image_descriptors[i] is not None:\n",
    "            distance = cdist(image_descriptors[i], BoW)\n",
    "            argmin = np.argmin(distance, axis = 1)\n",
    "\n",
    "            for j in argmin:\n",
    "                features[j] += 1\n",
    "        X_features.append(features)\n",
    "\n",
    "    return X_features\n",
    "\n",
    "all_descriptors = []\n",
    "for descriptor in descriptors:\n",
    "    if descriptor is not None:\n",
    "        for des in descriptor:\n",
    "            all_descriptors.append(des)\n",
    "            \n",
    "num_cluster = 20\n",
    "BoW = kmean_bow(all_descriptors, num_cluster)\n",
    "X_features = create_feature_bow(descriptors, BoW, num_cluster)"
   ]
  },
  {
   "cell_type": "code",
   "execution_count": null,
   "id": "7e245a59",
   "metadata": {},
   "outputs": [],
   "source": []
  }
 ],
 "metadata": {
  "kernelspec": {
   "display_name": "Python 3 (ipykernel)",
   "language": "python",
   "name": "python3"
  },
  "language_info": {
   "codemirror_mode": {
    "name": "ipython",
    "version": 3
   },
   "file_extension": ".py",
   "mimetype": "text/x-python",
   "name": "python",
   "nbconvert_exporter": "python",
   "pygments_lexer": "ipython3",
   "version": "3.9.7"
  }
 },
 "nbformat": 4,
 "nbformat_minor": 5
}
