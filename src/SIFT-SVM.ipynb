{
 "cells": [
  {
   "cell_type": "code",
<<<<<<< HEAD
   "execution_count": 1,
=======
   "execution_count": 2,
>>>>>>> 5bfb34dd31d9ab48f5cc0966f07aad8007d0b9b9
   "id": "fbf836d9",
   "metadata": {},
   "outputs": [
    {
     "data": {
      "text/plain": [
       "125"
      ]
     },
<<<<<<< HEAD
     "execution_count": 1,
=======
     "execution_count": 2,
>>>>>>> 5bfb34dd31d9ab48f5cc0966f07aad8007d0b9b9
     "metadata": {},
     "output_type": "execute_result"
    }
   ],
   "source": [
    "import cv2\n",
    "import numpy as np\n",
    "import os\n",
    "import skimage\n",
    "from sklearn.svm import SVC\n",
    "from sklearn.model_selection import train_test_split\n",
    "from sklearn.linear_model import SGDClassifier\n",
    "from sklearn.metrics import accuracy_score\n",
    "\n",
    "\n",
    "from sklearn.cluster import KMeans\n",
    "import pickle\n",
    "from scipy.spatial.distance import cdist\n",
    "\n",
    "# Path to the folder containing all the images\n",
    "# path = \"/Users/michelle/Desktop/W281/final_project/rendered_256x256/256x256/sketch/tx_000100000000\"\n",
    "SKETCH_ROOT = \"/home/sysung98/MIDS/W281/final_project/data/rendered_256x256/256x256/sketch\"\n",
    "path = SKETCH_ROOT + '/tx_000100000000'\n",
    "\n",
    "# List all the subdirectories (i.e., categories) in the main folder\n",
    "categories = os.listdir(path)\n",
    "categories = [x for x in categories if x != '.DS_Store']\n",
    "len(categories)"
   ]
  },
  {
   "cell_type": "code",
<<<<<<< HEAD
   "execution_count": 12,
   "id": "8baa2a21",
   "metadata": {},
   "outputs": [],
   "source": [
    "def linear_svm(X_train, X_test, Y_train, Y_test):\n",
    "    # Train an SVM with linear kernel\n",
    "    svm_model = SVC(C=30, kernel='linear', random_state=0)\n",
    "    svm_model.fit(X_train, Y_train)\n",
    "    \n",
    "    # Evaluate the performance of SVM model\n",
    "    svm_preds = svm_model.predict(X_test)\n",
    "    svm_acc = accuracy_score(Y_test, svm_preds)\n",
    "    \n",
    "    return svm_acc"
   ]
  },
  {
   "cell_type": "code",
   "execution_count": 13,
   "id": "c457929b",
   "metadata": {},
   "outputs": [],
   "source": [
    "def rbf_svm(X_train, X_test, Y_train, Y_test):\n",
    "    # Train an SVM with linear kernel\n",
    "    svm_model = SVC(C=30, kernel='rbf', random_state=0)\n",
    "    svm_model.fit(X_train, Y_train)\n",
    "    \n",
    "    # Evaluate the performance of SVM model\n",
    "    svm_preds = svm_model.predict(X_test)\n",
    "    svm_acc = accuracy_score(Y_test, svm_preds)\n",
    "    \n",
    "    return svm_acc"
   ]
  },
  {
   "cell_type": "code",
   "execution_count": 14,
   "id": "ca7017e1",
   "metadata": {},
   "outputs": [],
   "source": [
    "def sgd(X_train, X_test, Y_train, Y_test):\n",
    "    # Train an SGDClassifier to mimic the SVM model with mini-batch training\n",
    "    sgd_model = SGDClassifier(loss='hinge', alpha=1/(30*len(X_train)), max_iter=1000, random_state=0)\n",
    "\n",
    "    # Mini-batch training with batch size of 64\n",
    "    batch_size = 32\n",
    "    num_batches = len(X_train) // batch_size\n",
    "    for i in range(num_batches):\n",
    "        X_batch = X_train[i*batch_size:(i+1)*batch_size]\n",
    "        Y_batch = Y_train[i*batch_size:(i+1)*batch_size]\n",
    "        sgd_model.partial_fit(X_batch, Y_batch, classes=np.unique(Y_train))\n",
    "\n",
    "    sgd_preds = sgd_model.predict(X_test)\n",
    "    sgd_acc = accuracy_score(Y_test, sgd_preds)\n",
    "    \n",
    "    return sgd_acc"
   ]
  },
  {
   "cell_type": "markdown",
   "id": "14e2afaa",
   "metadata": {},
   "source": [
    "## Sample 50% of images from each category"
=======
   "execution_count": 1,
   "id": "32b6526a",
   "metadata": {},
   "outputs": [],
   "source": [
    "def edge_detection(sketch_img_fp):\n",
    "    ''' \n",
    "    apply canny edge detector to image \n",
    "\n",
    "    returns\n",
    "        np.argwhere(canny_img==1)       An array of edges (1-D)\n",
    "        canny_img.astype(int) * 256     Image of canny (2-D 256x256)\n",
    "    '''\n",
    "    sketch_img = cv2.imread(sketch_img_fp)\n",
    "    gray = cv2.cvtColor(sketch_img, cv2.COLOR_BGR2GRAY)\n",
    "\n",
    "    # canny_img = skimage.feature.canny(\n",
    "    #     gray, \n",
    "    #     sigma=4,\n",
    "    #     high_threshold=60\n",
    "    # )\n",
    "\n",
    "    canny_img = skimage.feature.canny(\n",
    "        gray\n",
    "    )\n",
    "\n",
    "    return np.argwhere(canny_img==1), canny_img.astype(int) * 256"
>>>>>>> 5bfb34dd31d9ab48f5cc0966f07aad8007d0b9b9
   ]
  },
  {
   "cell_type": "code",
<<<<<<< HEAD
   "execution_count": 8,
   "id": "c1dbcaaf",
=======
   "execution_count": 19,
   "id": "5e169d08",
>>>>>>> 5bfb34dd31d9ab48f5cc0966f07aad8007d0b9b9
   "metadata": {},
   "outputs": [
    {
     "name": "stdout",
     "output_type": "stream",
     "text": [
      "CPU times: user 1min 34s, sys: 44 s, total: 2min 18s\n",
      "Wall time: 1min\n"
     ]
    }
   ],
   "source": [
    "%%time\n",
    "sift = cv2.SIFT_create(nfeatures=200, nOctaveLayers=4, contrastThreshold=0.04, edgeThreshold=15, sigma=1.0)\n",
    "\n",
    "# Define a list to store the descriptors of all the images\n",
    "descriptors = []\n",
    "flatten_descriptors = []\n",
    "\n",
    "# Define a list to store the corresponding labels of all the images\n",
    "labels = []\n",
    "\n",
    "# Loop through all the categories\n",
    "for i, category in enumerate(categories):\n",
    "    # Get the path to the category folder\n",
    "    category_path = os.path.join(path, category)\n",
    "    # List all the images in the category folder\n",
    "    images = os.listdir(category_path)\n",
    "    # Loop through all the images in the category folder\n",
    "    count = 1\n",
    "    for image in images:\n",
    "        if count <= 50:\n",
    "            # Get the path to the image\n",
    "            image_path = os.path.join(category_path, image)\n",
    "            # Read the image\n",
    "            img = cv2.imread(image_path)\n",
    "            # Convert the image to grayscale\n",
    "            gray = cv2.cvtColor(img, cv2.COLOR_BGR2GRAY)\n",
    "            # Get the keypoints and descriptors using SIFT\n",
    "            kp, des = sift.detectAndCompute(gray, None)\n",
    "            # Reduce the descriptor size to 64 dimensions for speed\n",
    "            des = des[:, :64]\n",
    "            # Store the descriptors in the descriptors list\n",
    "            descriptors.append(des)\n",
    "            # Store the flattened descriptors \n",
    "            flatten_descriptors.append(des.flatten())\n",
    "            # Store the label i\n",
    "            labels.append(i)\n",
    "            count += 1"
   ]
  },
  {
   "cell_type": "code",
   "execution_count": 9,
   "id": "f441ad7e",
   "metadata": {},
   "outputs": [],
   "source": [
    "# standardize vector length to maximum length\n",
    "max_len = max([len(x) for x in flatten_descriptors])\n",
    "new_arr = [np.pad(x, (0, (max_len-len(x)))) for x in flatten_descriptors]\n",
    "#new_descriptors = [x[:min_length] for x in descriptors]"
   ]
  },
  {
   "cell_type": "code",
   "execution_count": 10,
   "id": "b8b8005f",
   "metadata": {},
   "outputs": [],
   "source": [
    "# split into train/test using the padded arrays\n",
    "X_train, X_test, Y_train, Y_test = train_test_split(new_arr, labels, test_size = 0.2, random_state = 1)"
   ]
  },
  {
   "cell_type": "code",
   "execution_count": 15,
   "id": "35c06360",
   "metadata": {},
   "outputs": [
    {
     "name": "stdout",
     "output_type": "stream",
     "text": [
      "0.084\n",
      "CPU times: user 11min 59s, sys: 4.28 s, total: 12min 3s\n",
      "Wall time: 3min 4s\n"
     ]
    }
   ],
   "source": [
    "%%time\n",
    "# train linear svm model\n",
    "sample_linear_svm_accuracy = linear_svm(X_train, X_test, Y_train, Y_test)\n",
    "print(sample_linear_svm_accuracy)"
   ]
  },
  {
   "cell_type": "code",
   "execution_count": 16,
   "id": "45f3438f",
   "metadata": {},
   "outputs": [
    {
     "name": "stdout",
     "output_type": "stream",
     "text": [
      "0.0776\n",
      "CPU times: user 14min 52s, sys: 4.18 s, total: 14min 56s\n",
      "Wall time: 3min 46s\n"
     ]
    }
   ],
   "source": [
    "%%time\n",
    "# train rbf svm model\n",
    "sample_rbf_svm_accuracy = rbf_svm(X_train, X_test, Y_train, Y_test)\n",
    "print(sample_rbf_svm_accuracy)"
   ]
  },
  {
   "cell_type": "code",
   "execution_count": 19,
   "id": "bc3a5909",
   "metadata": {},
   "outputs": [
    {
     "name": "stdout",
     "output_type": "stream",
     "text": [
      "0.0312\n",
      "CPU times: user 1min 7s, sys: 884 ms, total: 1min 8s\n",
      "Wall time: 17.2 s\n"
     ]
    }
   ],
   "source": [
    "%%time\n",
    "# train a SGD model to mimic linear SVM\n",
    "sample_sgd_accuracy = sgd(X_train, X_test, Y_train, Y_test)\n",
    "print(sample_sgd_accuracy)"
   ]
  },
  {
   "attachments": {},
   "cell_type": "markdown",
   "id": "3164c3a3",
   "metadata": {},
   "source": [
    "# Canny Edge Detector"
   ]
  },
  {
   "cell_type": "code",
   "execution_count": 3,
   "id": "3c3d46e1",
   "metadata": {},
   "outputs": [
    {
     "name": "stdout",
     "output_type": "stream",
     "text": [
      "CPU times: user 11.2 s, sys: 4.91 s, total: 16.1 s\n",
      "Wall time: 17.2 s\n"
     ]
    }
   ],
   "source": [
    "%%time\n",
    "# Define a list to store the descriptors of all the images\n",
    "descriptors = []\n",
    "\n",
    "# Define a list to store the corresponding labels of all the images\n",
    "labels = []\n",
    "\n",
    "# Loop through all the categories\n",
    "for i, category in enumerate(categories):\n",
    "    # Get the path to the category folder\n",
    "    category_path = os.path.join(path, category)\n",
    "    # List all the images in the category folder\n",
    "    images = os.listdir(category_path)\n",
    "\n",
    "    if i <= 2:\n",
    "\n",
    "        # Loop through all the images in the category folder\n",
    "        for image in images:\n",
    "            # Get the path to the image\n",
    "            image_path = os.path.join(category_path, image)\n",
    "            # Apply edge detector\n",
    "            _, edge_img = edge_detection(image_path)\n",
    "            # Store the descriptors in the descriptors list\n",
    "            descriptors.append(edge_img.flatten())\n",
    "            # Store the label i\n",
    "            labels.append(i)\n",
    "\n",
    "            if len(descriptors) != len(labels):\n",
    "                print(i)\n",
    "                print(image_path)\n",
    "                break"
   ]
  },
  {
   "cell_type": "code",
   "execution_count": 4,
   "id": "5fcadbec",
   "metadata": {},
   "outputs": [],
   "source": [
    "max_len = max([len(x) for x in descriptors])\n",
    "new_arr = [np.pad(x, (0, (max_len-len(x)))) for x in descriptors]\n",
    "X_train, X_test, Y_train, Y_test = train_test_split(new_arr, labels, test_size = 0.2, random_state = 1)"
   ]
  },
  {
   "cell_type": "code",
   "execution_count": 6,
   "id": "b5d14d2e",
   "metadata": {},
   "outputs": [
    {
     "name": "stdout",
     "output_type": "stream",
     "text": [
      "SVM accuracy: 0.8498583569405099\n"
     ]
    }
   ],
   "source": [
    "# Train an SVM with linear kernel\n",
    "svm_model = SVC(C=30, kernel='linear', random_state=0)\n",
    "svm_model.fit(X_train, Y_train)\n",
    "    \n",
    "# Evaluate the performance of SVM model\n",
    "svm_preds = svm_model.predict(X_test)\n",
    "svm_acc = accuracy_score(Y_test, svm_preds)\n",
    "print(f'SVM accuracy: {svm_acc}')\n",
    "\n",
    "with open('/home/sysung98/MIDS/W281/final_project/models/svm_canny_model.pkl', 'wb') as f:\n",
    "    pickle.dump(svm_model, f)"
   ]
  },
  {
   "cell_type": "markdown",
   "id": "0e39adb1",
   "metadata": {},
   "source": [
    "#### Applying KMeans after SIFT then training SVM"
   ]
  },
  {
   "cell_type": "code",
   "execution_count": 20,
   "id": "1a05c0c5",
   "metadata": {},
   "outputs": [
    {
     "name": "stdout",
     "output_type": "stream",
     "text": [
      "CPU times: user 23min 31s, sys: 23 s, total: 23min 54s\n",
      "Wall time: 3min 41s\n"
     ]
    }
   ],
   "source": [
    "%%time\n",
    "def kmean_bow(all_descriptors, num_cluster):\n",
    "    \"\"\" run kmeans on the descriptors \"\"\"\n",
    "    bow_dict = []\n",
    "\n",
    "    kmeans = KMeans(n_clusters = num_cluster)\n",
    "    kmeans.fit(all_descriptors)\n",
    "\n",
    "    bow_dict = kmeans.cluster_centers_\n",
    "\n",
    "    return bow_dict\n",
    "\n",
    "\n",
    "def create_feature_bow(image_descriptors, BoW, num_cluster):\n",
    "\n",
    "    X_features = []\n",
    "\n",
    "    for i in range(len(image_descriptors)):\n",
    "        features = np.array([0] * num_cluster)\n",
    "\n",
    "        if image_descriptors[i] is not None:\n",
    "            distance = cdist(image_descriptors[i], BoW)\n",
    "            argmin = np.argmin(distance, axis = 1)\n",
    "\n",
    "            for j in argmin:\n",
    "                features[j] += 1\n",
    "        X_features.append(features)\n",
    "\n",
    "    return X_features\n",
    "\n",
    "all_descriptors = []\n",
    "for descriptor in descriptors:\n",
    "    if descriptor is not None:\n",
    "        for des in descriptor:\n",
    "            all_descriptors.append(des)\n",
    "            \n",
    "num_cluster = 60\n",
    "BoW = kmean_bow(all_descriptors, num_cluster)\n",
    "X_features = create_feature_bow(descriptors, BoW, num_cluster)"
   ]
  },
  {
   "cell_type": "code",
   "execution_count": 21,
   "id": "9b4f4a22",
   "metadata": {},
   "outputs": [],
   "source": [
    "X_train, X_test, Y_train, Y_test = train_test_split(X_features, labels, test_size = 0.2, random_state = 1)"
   ]
  },
  {
   "cell_type": "code",
   "execution_count": 22,
   "id": "88b0408e",
   "metadata": {},
   "outputs": [
    {
     "name": "stdout",
     "output_type": "stream",
     "text": [
      "0.1368\n",
      "CPU times: user 4.64 s, sys: 16.9 ms, total: 4.66 s\n",
      "Wall time: 4.66 s\n"
     ]
    }
   ],
   "source": [
    "%%time\n",
    "# train linear svm model\n",
    "sample_kmeans_linear_svm_accuracy = linear_svm(X_train, X_test, Y_train, Y_test)\n",
    "print(sample_kmeans_linear_svm_accuracy)"
   ]
  },
  {
   "cell_type": "code",
   "execution_count": 23,
   "id": "2aab941d",
   "metadata": {},
   "outputs": [
    {
     "name": "stdout",
     "output_type": "stream",
     "text": [
      "0.1576\n",
      "CPU times: user 4.32 s, sys: 12.2 ms, total: 4.33 s\n",
      "Wall time: 4.33 s\n"
     ]
    }
   ],
   "source": [
    "%%time\n",
    "# train rbf svm model\n",
    "sample_kmeans_rbf_svm_accuracy = rbf_svm(X_train, X_test, Y_train, Y_test)\n",
    "print(sample_kmeans_rbf_svm_accuracy)"
   ]
  },
  {
   "cell_type": "code",
   "execution_count": 24,
   "id": "d213046f",
   "metadata": {},
   "outputs": [
    {
     "name": "stdout",
     "output_type": "stream",
     "text": [
      "0.0312\n",
      "CPU times: user 5.31 s, sys: 70.8 ms, total: 5.38 s\n",
      "Wall time: 5.38 s\n"
     ]
    }
   ],
   "source": [
    "%%time\n",
    "# train a SGD model to mimic linear SVM\n",
    "sample_kmeans_sgd_accuracy = sgd(X_train, X_test, Y_train, Y_test)\n",
    "print(sample_sgd_accuracy)"
   ]
  },
  {
   "cell_type": "markdown",
   "id": "3866a267",
   "metadata": {},
   "source": [
    "## Run on all data"
   ]
  },
  {
   "cell_type": "code",
   "execution_count": 25,
   "id": "5e169d08",
   "metadata": {},
   "outputs": [
    {
     "name": "stdout",
     "output_type": "stream",
     "text": [
      "CPU times: user 20min 33s, sys: 15min 16s, total: 35min 50s\n",
      "Wall time: 21min 6s\n"
     ]
    }
   ],
   "source": [
    "%%time\n",
    "sift = cv2.SIFT_create(nfeatures=200, nOctaveLayers=4, contrastThreshold=0.04, edgeThreshold=15, sigma=1.0)\n",
    "\n",
    "# Define a list to store the descriptors of all the images\n",
    "flatten_descriptors = []\n",
    "\n",
    "# Define a list to store the corresponding labels of all the images\n",
    "labels = []\n",
    "\n",
    "# Loop through all the categories\n",
    "for i, category in enumerate(categories):\n",
    "    # Get the path to the category folder\n",
    "    category_path = os.path.join(path, category)\n",
    "    # List all the images in the category folder\n",
    "    images = os.listdir(category_path)\n",
    "    # Loop through all the images in the category folder\n",
    "    for image in images:\n",
    "        # Get the path to the image\n",
    "        image_path = os.path.join(category_path, image)\n",
    "        # Read the image\n",
    "        img = cv2.imread(image_path)\n",
    "        # Convert the image to grayscale\n",
    "        gray = cv2.cvtColor(img, cv2.COLOR_BGR2GRAY)\n",
    "        # Get the keypoints and descriptors using SIFT\n",
    "        kp, des = sift.detectAndCompute(gray, None)\n",
    "        # Reduce the descriptor size to 64 dimensions for speed\n",
    "        des = des[:, :64]\n",
    "        # Store the descriptors in the descriptors list\n",
    "        flatten_descriptors.append(des.flatten())\n",
    "        # Store the label i\n",
    "        labels.append(i)"
   ]
  },
  {
   "cell_type": "code",
   "execution_count": 26,
   "id": "abf27a57",
   "metadata": {},
   "outputs": [],
   "source": [
    "# standardize vector length\n",
    "max_len = max([len(x) for x in flatten_descriptors])\n",
    "new_arr = [np.pad(x, (0, (max_len-len(x)))) for x in flatten_descriptors]"
   ]
  },
  {
   "cell_type": "code",
   "execution_count": 27,
   "id": "0eb24c02",
   "metadata": {},
   "outputs": [],
   "source": [
    "# split into train/test using the padded arrays\n",
    "X_train, X_test, Y_train, Y_test = train_test_split(new_arr, labels, test_size = 0.2, random_state = 1)"
   ]
  },
  {
   "cell_type": "code",
   "execution_count": 29,
   "id": "a0eb65d2",
   "metadata": {},
   "outputs": [
    {
     "name": "stdout",
     "output_type": "stream",
     "text": [
      "0.05855467973769623\n",
      "CPU times: user 15min 46s, sys: 2min 5s, total: 17min 52s\n",
      "Wall time: 4min 46s\n"
     ]
    }
   ],
   "source": [
    "%%time\n",
    "# train a SGD model to mimic linear SVM\n",
    "sgd_accuracy = sgd(X_train, X_test, Y_train, Y_test)\n",
    "print(sgd_accuracy)"
   ]
  },
  {
   "cell_type": "code",
   "execution_count": null,
   "id": "6b5d2313",
   "metadata": {},
   "outputs": [],
   "source": []
  }
 ],
 "metadata": {
  "kernelspec": {
   "display_name": "Python 3 (ipykernel)",
   "language": "python",
   "name": "python3"
  },
  "language_info": {
   "codemirror_mode": {
    "name": "ipython",
    "version": 3
   },
   "file_extension": ".py",
   "mimetype": "text/x-python",
   "name": "python",
   "nbconvert_exporter": "python",
   "pygments_lexer": "ipython3",
   "version": "3.10.9"
  }
 },
 "nbformat": 4,
 "nbformat_minor": 5
}
