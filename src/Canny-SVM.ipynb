{
 "cells": [
  {
   "cell_type": "code",
   "execution_count": 2,
   "id": "1826ce01",
   "metadata": {},
   "outputs": [
    {
     "data": {
      "text/plain": [
       "1"
      ]
     },
     "execution_count": 2,
     "metadata": {},
     "output_type": "execute_result"
    }
   ],
   "source": [
    "import cv2\n",
    "import numpy as np\n",
    "import os\n",
    "from skimage import feature\n",
    "from sklearn.svm import SVC\n",
    "from sklearn.model_selection import train_test_split\n",
    "from sklearn.linear_model import SGDClassifier\n",
    "from sklearn.metrics import accuracy_score\n",
    "\n",
    "\n",
    "from sklearn.cluster import KMeans\n",
    "import pickle\n",
    "from scipy.spatial.distance import cdist\n",
    "\n",
    "# Path to the folder containing all the images\n",
    "path = \"/Users/michelle/Desktop/W281/final_project/rendered_256x256/256x256/sketch/tx_000100000000\"\n",
    "#SKETCH_ROOT = \"/home/sysung98/MIDS/W281/final_project/data/rendered_256x256/256x256/sketch\"\n",
    "#path = SKETCH_ROOT + '/tx_000100000000'\n",
    "\n",
    "# List all the subdirectories (i.e., categories) in the main folder\n",
    "categories = os.listdir(path)\n",
    "categories = [x for x in categories if x != '.DS_Store']\n",
    "categories = ['apple']\n",
    "len(categories)"
   ]
  },
  {
   "cell_type": "code",
   "execution_count": 3,
   "id": "93cdb2cb",
   "metadata": {},
   "outputs": [],
   "source": [
    "def edge_detection(sketch_img_fp):\n",
    "    ''' \n",
    "    apply canny edge detector to image \n",
    "\n",
    "    returns\n",
    "        np.argwhere(canny_img==1)       An array of edges (1-D)\n",
    "        canny_img.astype(int) * 256     Image of canny (2-D 256x256)\n",
    "    '''\n",
    "    sketch_img = cv2.imread(sketch_img_fp)\n",
    "    gray = cv2.cvtColor(sketch_img, cv2.COLOR_BGR2GRAY)\n",
    "\n",
    "    # canny_img = skimage.feature.canny(\n",
    "    #     gray, \n",
    "    #     sigma=4,\n",
    "    #     high_threshold=60\n",
    "    # )\n",
    "\n",
    "    canny_img = feature.canny(\n",
    "        gray\n",
    "    )\n",
    "\n",
    "    return np.argwhere(canny_img==1), canny_img.astype(int) * 256"
   ]
  },
  {
   "cell_type": "code",
   "execution_count": 4,
   "id": "2d9ce928",
   "metadata": {},
   "outputs": [
    {
     "name": "stdout",
     "output_type": "stream",
     "text": [
      "CPU times: user 6.63 s, sys: 679 ms, total: 7.31 s\n",
      "Wall time: 7.54 s\n"
     ]
    }
   ],
   "source": [
    "%%time\n",
    "# Define a list to store the descriptors of all the images\n",
    "descriptors = []\n",
    "\n",
    "# Define a list to store the corresponding labels of all the images\n",
    "labels = []\n",
    "\n",
    "# Loop through all the categories\n",
    "for i, category in enumerate(categories):\n",
    "    # Get the path to the category folder\n",
    "    category_path = os.path.join(path, category)\n",
    "    # List all the images in the category folder\n",
    "    images = os.listdir(category_path)\n",
    "    count = 1\n",
    "    \n",
    "    # Loop through all the images in the category folder\n",
    "    for image in images:\n",
    "        if count <= 1:\n",
    "            # Get the path to the image\n",
    "            image_path = os.path.join(category_path, image)\n",
    "            # Apply edge detector\n",
    "            _, edge_img = edge_detection(image_path)\n",
    "            # Store the descriptors in the descriptors list\n",
    "            descriptors.append(edge_img.flatten())\n",
    "            # Store the label i\n",
    "            labels.append(i)"
   ]
  },
  {
   "cell_type": "code",
   "execution_count": 9,
   "id": "bd9374a4",
   "metadata": {},
   "outputs": [
    {
     "data": {
      "text/plain": [
       "65536"
      ]
     },
     "execution_count": 9,
     "metadata": {},
     "output_type": "execute_result"
    }
   ],
   "source": [
    "len(descriptors[0])"
   ]
  },
  {
   "cell_type": "code",
   "execution_count": 4,
   "id": "0f99c02c",
   "metadata": {},
   "outputs": [],
   "source": [
    "#max_len = max([len(x) for x in descriptors])\n",
    "#new_arr = [np.pad(x, (0, (max_len-len(x)))) for x in descriptors]\n",
    "X_train, X_test, Y_train, Y_test = train_test_split(descriptors, labels, test_size = 0.2, random_state = 1)"
   ]
  },
  {
   "cell_type": "code",
   "execution_count": 1,
   "id": "ac861db1",
   "metadata": {},
   "outputs": [
    {
     "ename": "NameError",
     "evalue": "name 'SVC' is not defined",
     "output_type": "error",
     "traceback": [
      "\u001b[0;31m---------------------------------------------------------------------------\u001b[0m",
      "\u001b[0;31mNameError\u001b[0m                                 Traceback (most recent call last)",
      "\u001b[0;32m<timed exec>\u001b[0m in \u001b[0;36m<module>\u001b[0;34m\u001b[0m\n",
      "\u001b[0;31mNameError\u001b[0m: name 'SVC' is not defined"
     ]
    }
   ],
   "source": [
    "%%time\n",
    "# Train an SVM with linear kernel\n",
    "svm_model = SVC(C=30, kernel='linear', random_state=0)\n",
    "svm_model.fit(X_train, Y_train)\n",
    "    \n",
    "# Evaluate the performance of SVM model\n",
    "svm_preds = svm_model.predict(X_test)\n",
    "svm_acc = accuracy_score(Y_test, svm_preds)\n",
    "print(f'SVM accuracy: {svm_acc}')"
   ]
  },
  {
   "cell_type": "code",
   "execution_count": null,
   "id": "dc016c17",
   "metadata": {},
   "outputs": [],
   "source": []
  }
 ],
 "metadata": {
  "kernelspec": {
   "display_name": "Python 3 (ipykernel)",
   "language": "python",
   "name": "python3"
  },
  "language_info": {
   "codemirror_mode": {
    "name": "ipython",
    "version": 3
   },
   "file_extension": ".py",
   "mimetype": "text/x-python",
   "name": "python",
   "nbconvert_exporter": "python",
   "pygments_lexer": "ipython3",
   "version": "3.9.7"
  }
 },
 "nbformat": 4,
 "nbformat_minor": 5
}
