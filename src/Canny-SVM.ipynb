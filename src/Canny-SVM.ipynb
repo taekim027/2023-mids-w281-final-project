{
 "cells": [
  {
   "cell_type": "code",
   "execution_count": 4,
   "id": "2d97585c",
   "metadata": {},
   "outputs": [
    {
     "data": {
      "text/plain": [
       "125"
      ]
     },
     "execution_count": 4,
     "metadata": {},
     "output_type": "execute_result"
    }
   ],
   "source": [
    "import cv2\n",
    "import numpy as np\n",
    "import os\n",
    "from skimage import feature\n",
    "from sklearn.svm import SVC\n",
    "from sklearn.model_selection import train_test_split\n",
    "from sklearn.linear_model import SGDClassifier\n",
    "from sklearn.metrics import accuracy_score\n",
    "\n",
    "\n",
    "from sklearn.cluster import KMeans\n",
    "import pickle\n",
    "from scipy.spatial.distance import cdist\n",
    "\n",
    "# Path to the folder containing all the images\n",
    "path = \"/Users/michelle/Desktop/W281/final_project/rendered_256x256/256x256/sketch/tx_000100000000\"\n",
    "#SKETCH_ROOT = \"/home/sysung98/MIDS/W281/final_project/data/rendered_256x256/256x256/sketch\"\n",
    "#path = SKETCH_ROOT + '/tx_000100000000'\n",
    "\n",
    "# List all the subdirectories (i.e., categories) in the main folder\n",
    "categories = os.listdir(path)\n",
    "categories = [x for x in categories if x != '.DS_Store']\n",
    "len(categories)"
   ]
  },
  {
   "cell_type": "code",
   "execution_count": 5,
   "id": "ce182891",
   "metadata": {},
   "outputs": [],
   "source": [
    "def edge_detection(sketch_img_fp):\n",
    "    ''' \n",
    "    apply canny edge detector to image \n",
    "\n",
    "    returns\n",
    "        np.argwhere(canny_img==1)       An array of edges (1-D)\n",
    "        canny_img.astype(int) * 256     Image of canny (2-D 256x256)\n",
    "    '''\n",
    "    sketch_img = cv2.imread(sketch_img_fp)\n",
    "    gray = cv2.cvtColor(sketch_img, cv2.COLOR_BGR2GRAY)\n",
    "\n",
    "    # canny_img = skimage.feature.canny(\n",
    "    #     gray, \n",
    "    #     sigma=4,\n",
    "    #     high_threshold=60\n",
    "    # )\n",
    "\n",
    "    canny_img = feature.canny(\n",
    "        gray\n",
    "    )\n",
    "\n",
    "    return np.argwhere(canny_img==1), canny_img.astype(int) * 256"
   ]
  },
  {
   "cell_type": "code",
   "execution_count": 6,
   "id": "51ca1c15",
   "metadata": {},
   "outputs": [
    {
     "name": "stdout",
     "output_type": "stream",
     "text": [
      "CPU times: user 21.9 s, sys: 3.04 s, total: 24.9 s\n",
      "Wall time: 26.9 s\n"
     ]
    }
   ],
   "source": [
    "%%time\n",
    "# Define a list to store the descriptors of all the images\n",
    "descriptors = []\n",
    "\n",
    "# Define a list to store the corresponding labels of all the images\n",
    "labels = []\n",
    "\n",
    "# Loop through all the categories\n",
    "for i, category in enumerate(categories):\n",
    "    # Get the path to the category folder\n",
    "    category_path = os.path.join(path, category)\n",
    "    # List all the images in the category folder\n",
    "    images = os.listdir(category_path)\n",
    "\n",
    "    if i <= 2:\n",
    "\n",
    "        # Loop through all the images in the category folder\n",
    "        for image in images:\n",
    "            # Get the path to the image\n",
    "            image_path = os.path.join(category_path, image)\n",
    "            # Apply edge detector\n",
    "            _, edge_img = edge_detection(image_path)\n",
    "            # Store the descriptors in the descriptors list\n",
    "            descriptors.append(edge_img.flatten())\n",
    "            # Store the label i\n",
    "            labels.append(i)\n",
    "\n",
    "            if len(descriptors) != len(labels):\n",
    "                print(i)\n",
    "                print(image_path)\n",
    "                break"
   ]
  },
  {
   "cell_type": "code",
   "execution_count": 7,
   "id": "4afd5726",
   "metadata": {},
   "outputs": [],
   "source": [
    "#max_len = max([len(x) for x in descriptors])\n",
    "#new_arr = [np.pad(x, (0, (max_len-len(x)))) for x in descriptors]\n",
    "X_train, X_test, Y_train, Y_test = train_test_split(descriptors, labels, test_size = 0.2, random_state = 1)"
   ]
  },
  {
   "cell_type": "code",
   "execution_count": 8,
   "id": "05f29ea8",
   "metadata": {},
   "outputs": [
    {
     "name": "stdout",
     "output_type": "stream",
     "text": [
      "SVM accuracy: 0.8361111111111111\n"
     ]
    }
   ],
   "source": [
    "%%time\n",
    "# Train an SVM with linear kernel\n",
    "svm_model = SVC(C=30, kernel='linear', random_state=0)\n",
    "svm_model.fit(X_train, Y_train)\n",
    "    \n",
    "# Evaluate the performance of SVM model\n",
    "svm_preds = svm_model.predict(X_test)\n",
    "svm_acc = accuracy_score(Y_test, svm_preds)\n",
    "print(f'SVM accuracy: {svm_acc}')"
   ]
  },
  {
   "cell_type": "code",
   "execution_count": null,
   "id": "226bee08",
   "metadata": {},
   "outputs": [],
   "source": []
  }
 ],
 "metadata": {
  "kernelspec": {
   "display_name": "Python 3 (ipykernel)",
   "language": "python",
   "name": "python3"
  },
  "language_info": {
   "codemirror_mode": {
    "name": "ipython",
    "version": 3
   },
   "file_extension": ".py",
   "mimetype": "text/x-python",
   "name": "python",
   "nbconvert_exporter": "python",
   "pygments_lexer": "ipython3",
   "version": "3.9.7"
  }
 },
 "nbformat": 4,
 "nbformat_minor": 5
}
