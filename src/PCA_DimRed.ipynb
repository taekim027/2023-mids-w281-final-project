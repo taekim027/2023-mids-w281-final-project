{
 "cells": [
  {
   "cell_type": "code",
   "execution_count": null,
   "id": "938f8217",
   "metadata": {},
   "outputs": [],
   "source": [
    "import cv2\n",
    "import os\n",
    "import numpy as np\n",
    "import matplotlib.pyplot as plt\n",
    "import pandas as pd\n",
    "\n",
    "from skimage import exposure\n",
    "from skimage.feature import hog\n",
    "from skimage.filters import sobel\n",
    "from skimage.feature import local_binary_pattern\n",
    "\n",
    "from numpy import linalg\n",
    "import numpy.matlib\n",
    "from IPython.display import clear_output\n",
    "from skimage.color import rgb2gray\n",
    "\n",
    "# Change to match data filepath on local\n",
    "base_fp = 'E:\\\\Project\\\\256x256\\\\sketch\\\\tx_000100000000'\n"
   ]
  },
  {
   "cell_type": "code",
   "execution_count": null,
   "id": "f737437e",
   "metadata": {},
   "outputs": [],
   "source": [
    "#Initialize Image Matrix for PCA\n",
    "\n",
    "xdim, ydim = 256, 256\n",
    "N = 0\n",
    "D = np.empty((0, xdim * ydim), dtype = np.uint8)\n",
    "counter = 0\n",
    "\n",
    "#Load every 20th image due to memory purposes)\n",
    "for subfolder in os.listdir(base_fp):\n",
    "    subfolder_path = os.path.join(base_fp, subfolder)\n",
    "    for filename in os.listdir(subfolder_path):\n",
    "        filepath = os.path.join(subfolder_path, filename)\n",
    "        \n",
    "        if filename.endswith(\".jpg\") or filename.endswith(\".png\"):\n",
    "            counter +=1\n",
    "            if counter % 20  == 0:\n",
    "                img = rgb2gray(plt.imread(filepath))\n",
    "                \n",
    "                row = img.flatten().reshape(1, -1)\n",
    "                D = np.vstack((D, row))\n",
    "                \n",
    "            \n",
    "D = D.T\n",
    "\n",
    "print(\"loaded \" + str(D.shape[1]) + \" images\")"
   ]
  },
  {
   "cell_type": "code",
   "execution_count": null,
   "id": "e5ef3ccd",
   "metadata": {},
   "outputs": [],
   "source": [
    "#PCA: zero-mean\n",
    "\n",
    "mu = np.mean(D, axis = 1) #mean\n",
    "mu = np.matlib.repmat(mu, D.shape[1], 1)\n",
    "D2 = D - mu.T\n",
    "\n",
    "C2 = D2.T@D2\n",
    "\n",
    "#obtain eigenvectors\n",
    "val, vec = linalg.eig(C2)"
   ]
  },
  {
   "cell_type": "code",
   "execution_count": null,
   "id": "40a2af5f",
   "metadata": {},
   "outputs": [],
   "source": [
    "#project onto new Basis with top 20 representations only, P vector is the corresponding evaluation for each image. \n",
    "#will need to feed this through the entire dataset, not just the trimmed 1/20th shape\n",
    "\n",
    "d = 20\n",
    "P = np.zeros((d, D.shape[1]))\n",
    "\n",
    "for k in range(d):\n",
    "    e = D2@vec[:,k]\n",
    "    P[k,:] = e.T@D\n"
   ]
  },
  {
   "cell_type": "code",
   "execution_count": null,
   "id": "3c0f5790",
   "metadata": {},
   "outputs": [],
   "source": [
    "#Visualize the eigenbasis representation for one of the images\n",
    "P[:,0]"
   ]
  },
  {
   "cell_type": "markdown",
   "id": "ca736f40",
   "metadata": {},
   "source": [
    "## Visualization of Reconstructed Images"
   ]
  },
  {
   "cell_type": "code",
   "execution_count": null,
   "id": "02e44be0",
   "metadata": {},
   "outputs": [],
   "source": [
    "#Top 20 eigenvectors and eigenvalues\n",
    "idx = val.argsort()[::-1][:20]\n",
    "B = vec[:,idx]\n",
    "\n",
    "coefficients = np.dot(D2, B)\n",
    "\n",
    "#Each Image Reconstructed\n",
    "D_reconstructed = np.dot(B, coefficients.T)"
   ]
  },
  {
   "cell_type": "code",
   "execution_count": null,
   "id": "3e2fa3f9",
   "metadata": {},
   "outputs": [],
   "source": [
    "# Plot Top 9 basis representations\n",
    "for k in range(20):\n",
    "    e = D2@vec[:,k]\n",
    "    plt.subplot(4,5,k+1)\n",
    "    plt.imshow(e.reshape(xdim, ydim), cmap = 'gray')\n",
    "    plt.axis('off')"
   ]
  },
  {
   "cell_type": "code",
   "execution_count": null,
   "id": "dfcfd1ba",
   "metadata": {},
   "outputs": [],
   "source": [
    "#Compare original image to the dimension representation\n",
    "plt.figure()\n",
    "plt.imshow(D_reconstructed[0].reshape(xdim, ydim), cmap = 'gray')\n",
    "plt.figure()\n",
    "plt.imshow(D[:,0].reshape(xdim, ydim), cmap = 'gray')"
   ]
  },
  {
   "cell_type": "code",
   "execution_count": null,
   "id": "599e9c41",
   "metadata": {},
   "outputs": [],
   "source": [
    "#Nearest Neighbor of any given image, according to the reduced dimension representation\n",
    "D3 = D2 + mu.T\n",
    "\n",
    "j = 1719\n",
    "mindist = 1e10\n",
    "for k in range(D3.shape[1]):\n",
    "    if (j != k):\n",
    "        dist = linalg.norm(P[:,k] - P[:,j])\n",
    "        if (dist < mindist):\n",
    "            mindist = dist\n",
    "            minind = k \n",
    "\n",
    "plt.figure()\n",
    "plt.subplot(121)\n",
    "plt.imshow(D3[:,j].reshape(xdim, ydim), cmap = 'gray')\n",
    "plt.axis('off')\n",
    "plt.subplot(122)\n",
    "plt.imshow(D3[:,minind].reshape(xdim, ydim), cmap = 'gray')\n",
    "plt.axis('off')"
   ]
  }
 ],
 "metadata": {
  "kernelspec": {
   "display_name": "Python 3 (ipykernel)",
   "language": "python",
   "name": "python3"
  },
  "language_info": {
   "codemirror_mode": {
    "name": "ipython",
    "version": 3
   },
   "file_extension": ".py",
   "mimetype": "text/x-python",
   "name": "python",
   "nbconvert_exporter": "python",
   "pygments_lexer": "ipython3",
   "version": "3.9.7"
  }
 },
 "nbformat": 4,
 "nbformat_minor": 5
}
